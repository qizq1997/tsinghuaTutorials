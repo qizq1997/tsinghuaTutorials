{
 "cells": [
  {
   "attachments": {},
   "cell_type": "markdown",
   "metadata": {},
   "source": [
    "# 实践: 基于AlexNet的裂缝图像分类"
   ]
  },
  {
   "attachments": {},
   "cell_type": "markdown",
   "metadata": {},
   "source": [
    "## 0 基础设置"
   ]
  },
  {
   "attachments": {},
   "cell_type": "markdown",
   "metadata": {},
   "source": [
    "### 0.1 导入需要的模块"
   ]
  },
  {
   "cell_type": "code",
   "metadata": {
    "ExecuteTime": {
     "end_time": "2024-08-22T07:36:57.370724Z",
     "start_time": "2024-08-22T07:36:52.558638Z"
    }
   },
   "source": [
    "import torch\n",
    "from torch import nn\n",
    "from torch.optim import lr_scheduler\n",
    "from torchvision import transforms\n",
    "from torchvision.datasets import ImageFolder\n",
    "from torch.utils.data import DataLoader\n",
    "import os\n",
    "from tqdm import tqdm\n",
    "import time\n",
    "import matplotlib.pyplot as plt\n",
    "from torch.utils import data\n",
    "from cv2 import imread\n",
    "import torch.nn.functional as F"
   ],
   "outputs": [],
   "execution_count": 1
  },
  {
   "metadata": {
    "ExecuteTime": {
     "end_time": "2024-08-22T08:14:09.942108Z",
     "start_time": "2024-08-22T08:14:09.931280Z"
    }
   },
   "cell_type": "code",
   "source": "from torch.optim.lr_scheduler import StepLR",
   "outputs": [],
   "execution_count": 24
  },
  {
   "attachments": {},
   "cell_type": "markdown",
   "metadata": {},
   "source": [
    "需要在当前环境下安装 tqdm cv2 等包\n",
    "```bash\n",
    "pip install tqdm\n",
    "\n",
    "pip install opencv-python\n",
    "```"
   ]
  },
  {
   "attachments": {},
   "cell_type": "markdown",
   "metadata": {},
   "source": [
    "### 0.2 显示与绘图设置"
   ]
  },
  {
   "cell_type": "code",
   "metadata": {
    "ExecuteTime": {
     "end_time": "2024-08-22T07:37:13.083013Z",
     "start_time": "2024-08-22T07:37:13.079245Z"
    }
   },
   "source": [
    "# 解决中文显示问题\n",
    "# 运行配置参数中的字体（font）为黑体（SimHei）\n",
    "plt.rcParams['font.sans-serif'] = ['simHei']\n",
    "# 运行配置参数总的轴（axes）正常显示正负号（minus）\n",
    "plt.rcParams['axes.unicode_minus'] = False"
   ],
   "outputs": [],
   "execution_count": 2
  },
  {
   "attachments": {},
   "cell_type": "markdown",
   "metadata": {},
   "source": [
    "## 1 数据预处理"
   ]
  },
  {
   "cell_type": "code",
   "metadata": {
    "ExecuteTime": {
     "end_time": "2024-08-22T07:37:20.029627Z",
     "start_time": "2024-08-22T07:37:20.016470Z"
    }
   },
   "source": [
    "# 将图像的像素值归一化到[-1,1]之间\n",
    "#三个通道的均值和标准差都为0.5\n",
    "normalize = transforms.Normalize([0.5, 0.5, 0.5], [0.5, 0.5, 0.5])\n",
    "\n",
    "# Compose(): 将多个transforms的操作整合在一起\n",
    "# 输入为224*224  但是训练数据如果不是这个值，那就resize到224*224\n",
    "train_transform = transforms.Compose([\n",
    "    # transforms.Resize((224, 224)),\n",
    "    transforms.ToTensor(),\n",
    "    normalize])\n",
    "\n",
    "val_transform = transforms.Compose([\n",
    "    #transforms.Resize((224, 224)),\n",
    "    transforms.ToTensor(),\n",
    "    normalize])"
   ],
   "outputs": [],
   "execution_count": 3
  },
  {
   "attachments": {},
   "cell_type": "markdown",
   "metadata": {},
   "source": [
    "## 2 数据的组织"
   ]
  },
  {
   "attachments": {},
   "cell_type": "markdown",
   "metadata": {},
   "source": [
    "### 2.1 创建 Dataset"
   ]
  },
  {
   "cell_type": "code",
   "metadata": {
    "ExecuteTime": {
     "end_time": "2024-08-22T07:37:24.247505Z",
     "start_time": "2024-08-22T07:37:24.234568Z"
    }
   },
   "source": [
    "class crackInfo:\n",
    "    # 定义包含数据集信息的类 crackInfo\n",
    "    rootdir = 'dataset'  # 数据集的根目录\n",
    "    names = [\n",
    "        'Crack',  # 定义类别名称，裂缝\n",
    "        'Background',  # 背景\n",
    "    ]\n",
    "    labels = [\n",
    "        'CK',  # 裂缝类别的标签\n",
    "        'BG',  # 背景类别的标签\n",
    "    ]"
   ],
   "outputs": [],
   "execution_count": 4
  },
  {
   "cell_type": "code",
   "metadata": {
    "ExecuteTime": {
     "end_time": "2024-08-22T07:37:31.375177Z",
     "start_time": "2024-08-22T07:37:31.367019Z"
    }
   },
   "source": [
    "class ClassifyDataset(data.Dataset):\n",
    "    # 自定义 PyTorch 数据集类，继承自 torch.utils.data.Dataset\n",
    "    def __init__(self, transform, labelinfo, mode):\n",
    "        \"\"\"\n",
    "        初始化函数\n",
    "        :param transform: torch.transform, 数据预处理方法\n",
    "        :param labelinfo: crackInfo, 包含标签与命名信息的类\n",
    "        :param mode: str, 数据集模式，可以选择 'train' 或 'test'\n",
    "        \"\"\"\n",
    "        self.names = labelinfo.names  # 从 labelinfo 获取类别名称\n",
    "        self.labels = labelinfo.labels  # 从 labelinfo 获取类别标签\n",
    "        index = [i for i in range(len(self.names))]  # 创建一个索引列表，用于标识类别\n",
    "        self.label_name = zip(self.names, index)  # 将类别名称和索引配对\n",
    "        self.label_length = len(labelinfo.labels[0])  # 获取标签的长度，用于匹配文件名\n",
    "\n",
    "        # 根据模式选择对应的数据集路径\n",
    "        if mode == 'train':\n",
    "            dir = os.path.join(labelinfo.rootdir, 'train')  # 训练集目录\n",
    "            self.data_info = self.get_img_info(data_dir=dir)  # 获取训练集的图像信息\n",
    "        elif mode == 'test':\n",
    "            dir = os.path.join(labelinfo.rootdir, 'val')  # 验证集目录\n",
    "            self.data_info = self.get_img_info(data_dir=dir)  # 获取验证集的图像信息\n",
    "        \n",
    "        self.transform = transform  # 数据预处理方法\n",
    "\n",
    "    \n",
    "    def __getitem__(self, index):\n",
    "        # 获取数据集中的一项（图像和标签）\n",
    "        path_img, label = self.data_info[index]  # 获取图像路径和对应的标签\n",
    "        img = imread(path_img)  # 读取图像，图像的像素范围为 0~255，格式为 BGR\n",
    "        \n",
    "        # 如果有预处理方法，则应用预处理\n",
    "        if self.transform is not None:\n",
    "            img = self.transform(img)  # 转换图像，如转换为 tensor 并归一化\n",
    "        \n",
    "        return img, label  # 返回图像和标签\n",
    "\n",
    "    def __len__(self):\n",
    "        # 返回数据集的长度 读了多少个数据\n",
    "        return len(self.data_info)\n",
    "\n",
    "    def get_img_info(self, data_dir):\n",
    "        # 获取数据集中的图像信息，包括图像路径和对应的标签\n",
    "        data_info = []  # 用于存储图像路径和标签的列表\n",
    "        img_names = os.listdir(data_dir)  # 获取目录中的所有文件名\n",
    "        img_names = list(filter(lambda x: x.endswith('.jpg'), img_names))  # 过滤出以 '.jpg' 结尾的文件（图像）\n",
    "\n",
    "        # 遍历所有图像文件名\n",
    "        for img_name in img_names:\n",
    "            path_img = os.path.join(data_dir, img_name)  # 获取图像的完整路径\n",
    "            lblname = img_name[:self.label_length]  # 从文件名中提取标签名（前几个字符）\n",
    "            label = self.labels.index(lblname)  # 根据标签名查找对应的标签索引\n",
    "            data_info.append((path_img, int(label)))  # 将图像路径和标签加入到数据集中\n",
    "        \n",
    "        return data_info  # 返回包含图像路径和标签的列表"
   ],
   "outputs": [],
   "execution_count": 5
  },
  {
   "attachments": {},
   "cell_type": "markdown",
   "metadata": {},
   "source": [
    "### 2.2 创建 Dataloader"
   ]
  },
  {
   "cell_type": "code",
   "metadata": {
    "ExecuteTime": {
     "end_time": "2024-08-22T07:58:03.348301Z",
     "start_time": "2024-08-22T07:58:03.331786Z"
    }
   },
   "source": [
    "# 设置批量大小和子进程数\n",
    "batch_size = 8\n",
    "num_workers = 0  # 不开启多进程 有时多进程根据电脑情况会报错"
   ],
   "outputs": [],
   "execution_count": 10
  },
  {
   "cell_type": "code",
   "metadata": {
    "ExecuteTime": {
     "end_time": "2024-08-22T07:58:55.683103Z",
     "start_time": "2024-08-22T07:58:55.670226Z"
    }
   },
   "source": [
    "# 构建MyDataset实例\n",
    "info = crackInfo()\n",
    "train_data = ClassifyDataset(transform=train_transform,labelinfo=info,mode='train')\n",
    "val_data = ClassifyDataset(transform=val_transform,labelinfo=info,mode='test')\n",
    "\n",
    "# 创建 Dataloader\n",
    "train_dataloader = DataLoader(dataset=train_data,batch_size=batch_size,shuffle=True,num_workers=num_workers)\n",
    "val_dataloader = DataLoader(dataset=val_data,batch_size=batch_size,shuffle=True,num_workers=num_workers)\n",
    "\n",
    "num_cls=len(info.names)"
   ],
   "outputs": [],
   "execution_count": 11
  },
  {
   "metadata": {
    "ExecuteTime": {
     "end_time": "2024-08-22T08:00:31.918790Z",
     "start_time": "2024-08-22T08:00:31.802333Z"
    }
   },
   "cell_type": "code",
   "source": [
    "train_iter = iter(train_dataloader)\n",
    "next(train_iter)"
   ],
   "outputs": [
    {
     "data": {
      "text/plain": [
       "[tensor([[[[ 0.4510,  0.4588,  0.4902,  ...,  0.4745,  0.4902,  0.4980],\n",
       "           [ 0.4510,  0.4510,  0.4824,  ...,  0.4824,  0.4902,  0.4902],\n",
       "           [ 0.4431,  0.4510,  0.4667,  ...,  0.4902,  0.4902,  0.4980],\n",
       "           ...,\n",
       "           [ 0.4039,  0.4275,  0.4431,  ...,  0.5608,  0.5529,  0.5529],\n",
       "           [ 0.4118,  0.4275,  0.4431,  ...,  0.5451,  0.5451,  0.5451],\n",
       "           [ 0.4353,  0.4510,  0.4510,  ...,  0.5451,  0.5373,  0.5373]],\n",
       " \n",
       "          [[ 0.5216,  0.5294,  0.5608,  ...,  0.5451,  0.5608,  0.5686],\n",
       "           [ 0.5216,  0.5216,  0.5529,  ...,  0.5529,  0.5608,  0.5608],\n",
       "           [ 0.5137,  0.5216,  0.5373,  ...,  0.5608,  0.5608,  0.5686],\n",
       "           ...,\n",
       "           [ 0.4510,  0.4745,  0.4902,  ...,  0.6000,  0.5922,  0.5922],\n",
       "           [ 0.4588,  0.4745,  0.4902,  ...,  0.6000,  0.6000,  0.6000],\n",
       "           [ 0.4824,  0.4980,  0.4980,  ...,  0.6000,  0.5922,  0.5922]],\n",
       " \n",
       "          [[ 0.5451,  0.5529,  0.5843,  ...,  0.5765,  0.5922,  0.6000],\n",
       "           [ 0.5451,  0.5451,  0.5765,  ...,  0.5843,  0.5922,  0.5922],\n",
       "           [ 0.5373,  0.5451,  0.5608,  ...,  0.5922,  0.5922,  0.6000],\n",
       "           ...,\n",
       "           [ 0.4902,  0.5137,  0.5294,  ...,  0.6235,  0.6157,  0.6157],\n",
       "           [ 0.4980,  0.5137,  0.5294,  ...,  0.6235,  0.6235,  0.6235],\n",
       "           [ 0.5216,  0.5373,  0.5373,  ...,  0.6235,  0.6157,  0.6157]]],\n",
       " \n",
       " \n",
       "         [[[ 0.0745,  0.0902,  0.0824,  ...,  0.0196,  0.0118, -0.0588],\n",
       "           [ 0.0980,  0.1294,  0.1137,  ...,  0.0353,  0.0510, -0.0039],\n",
       "           [ 0.1059,  0.1529,  0.1529,  ...,  0.0431,  0.0745,  0.0275],\n",
       "           ...,\n",
       "           [ 0.0745,  0.0510,  0.0275,  ..., -0.2314, -0.2235, -0.1529],\n",
       "           [ 0.0745,  0.0275, -0.0353,  ..., -0.2706, -0.3020, -0.2471],\n",
       "           [ 0.0510, -0.0039, -0.0902,  ..., -0.2706, -0.3412, -0.3098]],\n",
       " \n",
       "          [[ 0.0745,  0.0902,  0.0824,  ...,  0.0275,  0.0196, -0.0510],\n",
       "           [ 0.0980,  0.1294,  0.1137,  ...,  0.0431,  0.0588,  0.0039],\n",
       "           [ 0.1059,  0.1529,  0.1529,  ...,  0.0510,  0.0824,  0.0353],\n",
       "           ...,\n",
       "           [ 0.0824,  0.0588,  0.0353,  ..., -0.2471, -0.2392, -0.1686],\n",
       "           [ 0.0824,  0.0353, -0.0275,  ..., -0.2863, -0.3176, -0.2627],\n",
       "           [ 0.0588,  0.0039, -0.0824,  ..., -0.2863, -0.3569, -0.3255]],\n",
       " \n",
       "          [[ 0.0745,  0.0902,  0.0824,  ...,  0.0118,  0.0039, -0.0667],\n",
       "           [ 0.0980,  0.1294,  0.1137,  ...,  0.0275,  0.0431, -0.0118],\n",
       "           [ 0.1059,  0.1529,  0.1529,  ...,  0.0353,  0.0667,  0.0196],\n",
       "           ...,\n",
       "           [ 0.0667,  0.0431,  0.0196,  ..., -0.2549, -0.2471, -0.1765],\n",
       "           [ 0.0667,  0.0196, -0.0431,  ..., -0.2941, -0.3255, -0.2706],\n",
       "           [ 0.0431, -0.0118, -0.0980,  ..., -0.2941, -0.3647, -0.3333]]],\n",
       " \n",
       " \n",
       "         [[[ 0.3725,  0.3412,  0.3020,  ...,  0.4667,  0.4667,  0.4510],\n",
       "           [ 0.3647,  0.3333,  0.2941,  ...,  0.4902,  0.4745,  0.4431],\n",
       "           [ 0.3490,  0.3255,  0.2941,  ...,  0.5059,  0.4824,  0.4275],\n",
       "           ...,\n",
       "           [ 0.2392,  0.2627,  0.2941,  ...,  0.4275,  0.4196,  0.4039],\n",
       "           [ 0.2549,  0.2784,  0.3098,  ...,  0.4353,  0.4275,  0.4039],\n",
       "           [ 0.2941,  0.3176,  0.3412,  ...,  0.4588,  0.4510,  0.4275]],\n",
       " \n",
       "          [[ 0.4510,  0.4196,  0.3804,  ...,  0.5137,  0.5137,  0.4980],\n",
       "           [ 0.4431,  0.4118,  0.3725,  ...,  0.5373,  0.5216,  0.4902],\n",
       "           [ 0.4275,  0.4039,  0.3725,  ...,  0.5529,  0.5294,  0.4745],\n",
       "           ...,\n",
       "           [ 0.3098,  0.3333,  0.3647,  ...,  0.4745,  0.4667,  0.4510],\n",
       "           [ 0.3255,  0.3490,  0.3804,  ...,  0.4824,  0.4745,  0.4510],\n",
       "           [ 0.3647,  0.3882,  0.4118,  ...,  0.5059,  0.4980,  0.4745]],\n",
       " \n",
       "          [[ 0.5059,  0.4745,  0.4353,  ...,  0.5529,  0.5529,  0.5373],\n",
       "           [ 0.4980,  0.4667,  0.4275,  ...,  0.5765,  0.5608,  0.5294],\n",
       "           [ 0.4824,  0.4588,  0.4275,  ...,  0.5922,  0.5686,  0.5137],\n",
       "           ...,\n",
       "           [ 0.3412,  0.3647,  0.3961,  ...,  0.5137,  0.5059,  0.4902],\n",
       "           [ 0.3569,  0.3804,  0.4118,  ...,  0.5216,  0.5137,  0.4902],\n",
       "           [ 0.3961,  0.4196,  0.4431,  ...,  0.5451,  0.5373,  0.5137]]],\n",
       " \n",
       " \n",
       "         ...,\n",
       " \n",
       " \n",
       "         [[[ 0.3333,  0.3333,  0.3255,  ...,  0.4824,  0.5373,  0.5686],\n",
       "           [ 0.3333,  0.3333,  0.3176,  ...,  0.4745,  0.5216,  0.5451],\n",
       "           [ 0.3333,  0.3333,  0.3333,  ...,  0.4745,  0.4980,  0.4980],\n",
       "           ...,\n",
       "           [ 0.3882,  0.3569,  0.3412,  ...,  0.4745,  0.4588,  0.4588],\n",
       "           [ 0.4039,  0.3725,  0.3647,  ...,  0.4745,  0.4588,  0.4667],\n",
       "           [ 0.3882,  0.3647,  0.3569,  ...,  0.4588,  0.4431,  0.4510]],\n",
       " \n",
       "          [[ 0.3882,  0.3882,  0.3804,  ...,  0.5294,  0.5843,  0.6157],\n",
       "           [ 0.3882,  0.3882,  0.3725,  ...,  0.5216,  0.5686,  0.5922],\n",
       "           [ 0.3882,  0.3882,  0.3882,  ...,  0.5216,  0.5451,  0.5451],\n",
       "           ...,\n",
       "           [ 0.4510,  0.4196,  0.4039,  ...,  0.5216,  0.5216,  0.5216],\n",
       "           [ 0.4667,  0.4353,  0.4275,  ...,  0.5216,  0.5216,  0.5294],\n",
       "           [ 0.4510,  0.4275,  0.4196,  ...,  0.5059,  0.5059,  0.5137]],\n",
       " \n",
       "          [[ 0.4588,  0.4588,  0.4510,  ...,  0.5686,  0.6235,  0.6549],\n",
       "           [ 0.4588,  0.4588,  0.4431,  ...,  0.5608,  0.6078,  0.6314],\n",
       "           [ 0.4588,  0.4588,  0.4588,  ...,  0.5608,  0.5843,  0.5843],\n",
       "           ...,\n",
       "           [ 0.5059,  0.4745,  0.4588,  ...,  0.5765,  0.5765,  0.5765],\n",
       "           [ 0.5216,  0.4902,  0.4824,  ...,  0.5765,  0.5765,  0.5843],\n",
       "           [ 0.5059,  0.4824,  0.4745,  ...,  0.5608,  0.5608,  0.5686]]],\n",
       " \n",
       " \n",
       "         [[[ 0.2549,  0.2627,  0.2706,  ...,  0.2000,  0.2000,  0.2157],\n",
       "           [ 0.2471,  0.2549,  0.2549,  ...,  0.2157,  0.2157,  0.2157],\n",
       "           [ 0.2471,  0.2549,  0.2627,  ...,  0.2549,  0.2549,  0.2549],\n",
       "           ...,\n",
       "           [ 0.4353,  0.4510,  0.4510,  ...,  0.3412,  0.3569,  0.3725],\n",
       "           [ 0.3961,  0.4196,  0.4275,  ...,  0.3569,  0.3725,  0.3804],\n",
       "           [ 0.3333,  0.3647,  0.3961,  ...,  0.3647,  0.3804,  0.3804]],\n",
       " \n",
       "          [[ 0.3804,  0.3882,  0.4118,  ...,  0.3255,  0.3255,  0.3412],\n",
       "           [ 0.3725,  0.3804,  0.3961,  ...,  0.3412,  0.3412,  0.3412],\n",
       "           [ 0.3725,  0.3804,  0.3882,  ...,  0.3804,  0.3804,  0.3804],\n",
       "           ...,\n",
       "           [ 0.5373,  0.5529,  0.5529,  ...,  0.4431,  0.4588,  0.4745],\n",
       "           [ 0.4980,  0.5216,  0.5294,  ...,  0.4588,  0.4745,  0.4824],\n",
       "           [ 0.4353,  0.4667,  0.4980,  ...,  0.4667,  0.4824,  0.4824]],\n",
       " \n",
       "          [[ 0.4745,  0.4824,  0.4980,  ...,  0.4196,  0.4196,  0.4353],\n",
       "           [ 0.4667,  0.4745,  0.4824,  ...,  0.4353,  0.4353,  0.4353],\n",
       "           [ 0.4667,  0.4745,  0.4824,  ...,  0.4745,  0.4745,  0.4745],\n",
       "           ...,\n",
       "           [ 0.6000,  0.6157,  0.6157,  ...,  0.5059,  0.5216,  0.5373],\n",
       "           [ 0.5608,  0.5843,  0.5922,  ...,  0.5216,  0.5373,  0.5451],\n",
       "           [ 0.4980,  0.5294,  0.5608,  ...,  0.5294,  0.5451,  0.5451]]],\n",
       " \n",
       " \n",
       "         [[[ 0.3804,  0.3725,  0.3647,  ...,  0.4980,  0.4980,  0.5137],\n",
       "           [ 0.4118,  0.4118,  0.4039,  ...,  0.4980,  0.4980,  0.5216],\n",
       "           [ 0.4431,  0.4510,  0.4431,  ...,  0.4824,  0.4824,  0.5059],\n",
       "           ...,\n",
       "           [ 0.4275,  0.4039,  0.4196,  ...,  0.4745,  0.4980,  0.5216],\n",
       "           [ 0.4431,  0.4196,  0.4275,  ...,  0.4824,  0.5059,  0.5216],\n",
       "           [ 0.4667,  0.4431,  0.4353,  ...,  0.4902,  0.5137,  0.5294]],\n",
       " \n",
       "          [[ 0.4353,  0.4275,  0.4196,  ...,  0.5608,  0.5608,  0.5765],\n",
       "           [ 0.4667,  0.4667,  0.4588,  ...,  0.5608,  0.5608,  0.5843],\n",
       "           [ 0.4980,  0.5059,  0.4980,  ...,  0.5451,  0.5451,  0.5686],\n",
       "           ...,\n",
       "           [ 0.4745,  0.4510,  0.4667,  ...,  0.5216,  0.5451,  0.5686],\n",
       "           [ 0.4902,  0.4667,  0.4745,  ...,  0.5451,  0.5686,  0.5843],\n",
       "           [ 0.5137,  0.4902,  0.4824,  ...,  0.5529,  0.5765,  0.5922]],\n",
       " \n",
       "          [[ 0.5059,  0.4980,  0.4902,  ...,  0.6157,  0.6157,  0.6314],\n",
       "           [ 0.5373,  0.5373,  0.5294,  ...,  0.6157,  0.6157,  0.6392],\n",
       "           [ 0.5686,  0.5765,  0.5686,  ...,  0.6000,  0.6000,  0.6235],\n",
       "           ...,\n",
       "           [ 0.5294,  0.5059,  0.5216,  ...,  0.5765,  0.6000,  0.6235],\n",
       "           [ 0.5451,  0.5216,  0.5294,  ...,  0.6000,  0.6235,  0.6392],\n",
       "           [ 0.5686,  0.5451,  0.5373,  ...,  0.6078,  0.6314,  0.6471]]]]),\n",
       " tensor([0, 1, 1, 1, 0, 1, 1, 1])]"
      ]
     },
     "execution_count": 12,
     "metadata": {},
     "output_type": "execute_result"
    }
   ],
   "execution_count": 12
  },
  {
   "metadata": {},
   "cell_type": "markdown",
   "source": "1代表是裂缝 0代表不是裂缝"
  },
  {
   "attachments": {},
   "cell_type": "markdown",
   "metadata": {},
   "source": [
    "## 3 实现 AlexNet 网络架构"
   ]
  },
  {
   "attachments": {},
   "cell_type": "markdown",
   "metadata": {},
   "source": [
    "### 3.1 编写网络结构"
   ]
  },
  {
   "cell_type": "code",
   "metadata": {
    "ExecuteTime": {
     "end_time": "2024-08-22T08:17:44.143432Z",
     "start_time": "2024-08-22T08:17:44.130440Z"
    }
   },
   "source": [
    "# 定义AlexNet网络模型\n",
    "# MyAlexNet(子类)继承nn.Module(父类)\n",
    "class MyAlexNet(nn.Module):\n",
    "    # 子类继承中重新定义Module类的__init__()和forward()函数\n",
    "    # init(): 进行初始化，申明模型中各层的定义\n",
    "    def __init__(self):\n",
    "        # super: 引入父类的初始化方法给子类进行初始化\n",
    "        super(MyAlexNet, self).__init__()\n",
    "        # conv1: 输入大小为224*224，输出大小为55*55，输入通道为3，输出为96，卷积核为11，，扩充边缘为2，步长为4\n",
    "        self.conv1 = nn.Conv2d(in_channels=3, out_channels=96, kernel_size=11, stride=4, padding=2)\n",
    "        # 使用ReLU作为激活函数\n",
    "        self.ReLU = nn.ReLU()\n",
    "        # MaxPool2d: 最大池化操作\n",
    "        # 最大池化层，输入大小为55*55，输出大小为27*27，输入通道为96，输出为96，池化核为3，步长为2\n",
    "        self.maxpool1 = nn.MaxPool2d(kernel_size=3, stride=2)\n",
    "        \"\"\" -------- Your code here -------- \"\"\"\n",
    "        # conv2: 输入大小为27*27，输出大小为27*27，输入通道为96，输出为256，卷积核为5，扩充边缘为2，步长为1\n",
    "        self.conv2 = nn.Conv2d(in_channels=96, out_channels=256, kernel_size=5, stride=1, padding=2)\n",
    "        # maxpool2: 输入大小为27*27，输出大小为13*13，输入通道为256，输出为256，池化核为3，步长为2\n",
    "        self.maxpool2 = nn.MaxPool2d(kernel_size=3, stride=2)\n",
    "        # conv3: 输入大小为13*13，输出大小为13*13，输入通道为256，输出为384，卷积核为3，扩充边缘为1，步长为1\n",
    "        self.conv3 = nn.Conv2d(in_channels=256, out_channels=384, kernel_size=3, stride=1, padding=1)\n",
    "        # conv4: 输入大小为13*13，输出大小为13*13，输入通道为384，输出为384，卷积核为3，扩充边缘为1，步长为1\n",
    "        self.conv4 = nn.Conv2d(in_channels=384, out_channels=384, kernel_size=3, stride=1, padding=1)\n",
    "        # conv5: 输入大小为13*13，输出大小为13*13，输入通道为384，输出为256，卷积核为3，扩充边缘为1，步长为1\n",
    "        self.conv5 = nn.Conv2d(in_channels=384, out_channels=256, kernel_size=3, stride=1, padding=1)\n",
    "        # maxpool3: 输入大小为13*13，输出大小为6*6，输入通道为256，输出为256，池化核为3，步长为2\n",
    "        self.maxpool3 = nn.MaxPool2d(kernel_size=3, stride=2)\n",
    "        \"\"\" ------------- end -------------- \"\"\"\n",
    "        # Flatten(): 将张量（多维数组）平坦化处理，神经网络中第0维表示的是batch_size，所以Flatten()默认从第二维开始平坦化\n",
    "        self.flatten = nn.Flatten()\n",
    "        # 全连接层 Linear（in_features，out_features）\n",
    "        # fc1: 输入神经元数 6 * 6 * 256，输出神经元数 4096\n",
    "        self.fc1 = nn.Linear(6 * 6 * 256, 4096)\n",
    "        \"\"\" -------- Your code here -------- \"\"\"\n",
    "        # fc2: 输入神经元数 4096，输出神经元数 4096\n",
    "        self.fc2 = nn.Linear(4096,4096)\n",
    "        # fc3: 输入神经元数 4096，输出神经元数 1000\n",
    "        self.fc3 = nn.Linear(4096,1000)\n",
    "        \"\"\" ------------- end -------------- \"\"\"\n",
    "        # 输出层\n",
    "        self.fc4 = nn.Linear(1000, 2)\n",
    " \n",
    "    # forward(): 定义前向传播过程,描述了各层之间的连接关系\n",
    "    def forward(self, x):\n",
    "        # conv1 - ReLU - maxpool1\n",
    "        x = self.ReLU(self.conv1(x))\n",
    "        x = self.maxpool1(x)\n",
    "        \"\"\" -------- Your code here -------- \"\"\"\n",
    "        # conv2 - ReLU\n",
    "        x = self.ReLU(self.conv2(x))\n",
    "        # maxpool2\n",
    "        x = self.maxpool2(x)\n",
    "        # conv3 - ReLU\n",
    "        x = self.ReLU(self.conv3(x))\n",
    "        # conv4 - ReLU\n",
    "        x = self.ReLU(self.conv4(x))\n",
    "        # conv5 - ReLU\n",
    "        x = self.ReLU(self.conv5(x))\n",
    "        # maxpool3\n",
    "        x = self.maxpool3(x)\n",
    "        \"\"\" ------------- end -------------- \"\"\"\n",
    "        # 展平层\n",
    "        x = self.flatten(x)\n",
    "        # 全连接层\n",
    "        x = self.fc1(x)\n",
    "        # Dropout: 随机地将输入中50%的神经元激活设为0，即去掉了一些神经节点，防止过拟合\n",
    "        # “失活的”神经元不再进行前向传播并且不参与反向传播，这个技术减少了复杂的神经元之间的相互影响\n",
    "        x = F.dropout(x, p=0.5)\n",
    "        x = self.fc2(x)\n",
    "        x = F.dropout(x, p=0.5)\n",
    "        x = self.fc3(x)\n",
    "        x = F.dropout(x, p=0.5)\n",
    "        x = self.fc4(x)\n",
    "        return x"
   ],
   "outputs": [],
   "execution_count": 41
  },
  {
   "attachments": {},
   "cell_type": "markdown",
   "metadata": {},
   "source": [
    "### 3.2 实例化"
   ]
  },
  {
   "cell_type": "code",
   "metadata": {
    "ExecuteTime": {
     "end_time": "2024-08-22T08:17:45.390200Z",
     "start_time": "2024-08-22T08:17:44.914009Z"
    }
   },
   "source": [
    "# 如果有NVIDA显卡，可以转到GPU训练，否则用CPU\n",
    "device = 'cuda' if torch.cuda.is_available() else 'cpu'\n",
    "\n",
    "# 模型实例化，将模型转到device\n",
    "model = MyAlexNet().to(device)"
   ],
   "outputs": [],
   "execution_count": 42
  },
  {
   "attachments": {},
   "cell_type": "markdown",
   "metadata": {},
   "source": [
    "## 4 定义超参数"
   ]
  },
  {
   "cell_type": "code",
   "metadata": {
    "ExecuteTime": {
     "end_time": "2024-08-22T08:17:45.397506Z",
     "start_time": "2024-08-22T08:17:45.391850Z"
    }
   },
   "source": [
    "# 定义损失函数（交叉熵损失）\n",
    "loss_fn = nn.CrossEntropyLoss()\n",
    "\n",
    "# 定义优化器 (随机梯度下降法)\n",
    "# lr(float)：learning_rate学习率，也就是步长\n",
    "# momentum(float, 可选)：动量因子（默认：0），矫正优化率\n",
    "optimizer = torch.optim.SGD(model.parameters(), lr=0.01, momentum=0.9)\n",
    "\n",
    "# 定义训练策略\n",
    "# StepLR：用于调整学习率，一般情况下会设置随着epoch的增大而逐渐减小学习率从而达到更好的训练效果\n",
    "# 学习率每隔10轮变为原来的0.5\n",
    "lr_scheduler = StepLR(optimizer, step_size=10, gamma=0.5)"
   ],
   "outputs": [],
   "execution_count": 43
  },
  {
   "attachments": {},
   "cell_type": "markdown",
   "metadata": {},
   "source": [
    "## 5 运行训练"
   ]
  },
  {
   "attachments": {},
   "cell_type": "markdown",
   "metadata": {},
   "source": [
    "### 5.1 初始化设置"
   ]
  },
  {
   "cell_type": "code",
   "metadata": {
    "ExecuteTime": {
     "end_time": "2024-08-22T08:17:46.898686Z",
     "start_time": "2024-08-22T08:17:46.887484Z"
    }
   },
   "source": [
    "# 初始化loss和acc\n",
    "loss_train = []\n",
    "acc_train = []\n",
    "loss_val = []\n",
    "acc_val = []\n",
    "\n",
    "# 设置训练轮数\n",
    "epoch = 20"
   ],
   "outputs": [],
   "execution_count": 44
  },
  {
   "attachments": {},
   "cell_type": "markdown",
   "metadata": {},
   "source": [
    "### 5.2 编写训练函数"
   ]
  },
  {
   "cell_type": "code",
   "metadata": {
    "ExecuteTime": {
     "end_time": "2024-08-22T08:17:48.139463Z",
     "start_time": "2024-08-22T08:17:48.127817Z"
    }
   },
   "source": [
    "# 定义训练函数\n",
    "def train(dataloader, model, loss_fn, optimizer):\n",
    "    loss, current, n = 0.0, 0.0, 0\n",
    "    # dataloader: 传入数据（数据包括：训练数据和标签）\n",
    "    # enumerate()：用于将一个可遍历的数据对象(如列表、元组或字符串)组合为一个索引序列，同时列出数据和数据下标，一般用在for循环当中\n",
    "    # enumerate返回值有两个：一个是序号，一个是数据（包含训练数据和标签）\n",
    "    # x：训练数据（inputs）(tensor类型的），y：标签（labels）(tensor类型）\n",
    "    for x, y in tqdm(dataloader):\n",
    "        image, y = x.to(device), y.to(device)\n",
    "        # 前向传播\n",
    "        # 计算训练值\n",
    "        output = model(image)\n",
    "        # 计算观测值（label）与训练值的损失函数\n",
    "        cur_loss = loss_fn(output, y)\n",
    "        # 计算每批次的准确率\n",
    "        _, pred = torch.max(output, axis=1)\n",
    "        cur_acc = torch.sum(y == pred)/output.shape[0]\n",
    " \n",
    "        # 反向传播\n",
    "        # 清空过往梯度\n",
    "        optimizer.zero_grad()\n",
    "        # 反向传播，计算当前梯度\n",
    "        cur_loss.backward()\n",
    "        # 根据梯度更新网络参数\n",
    "        optimizer.step()\n",
    "        # item()：得到元素张量的元素值\n",
    "        loss += cur_loss.item()\n",
    "        current += cur_acc.item()\n",
    "        n = n + 1\n",
    "    \n",
    "    # 计算训练的loss\n",
    "    train_loss = loss / n\n",
    "    print('train_loss=' + str(train_loss))\n",
    "    # 计算训练的准确率\n",
    "    train_acc = current / n\n",
    "    print('train_acc=' + str(train_acc))\n",
    "    return train_loss, train_acc"
   ],
   "outputs": [],
   "execution_count": 45
  },
  {
   "attachments": {},
   "cell_type": "markdown",
   "metadata": {},
   "source": [
    "### 5.3 编写验证函数"
   ]
  },
  {
   "cell_type": "code",
   "metadata": {
    "ExecuteTime": {
     "end_time": "2024-08-22T08:17:49.065568Z",
     "start_time": "2024-08-22T08:17:49.058335Z"
    }
   },
   "source": [
    "# 定义验证函数\n",
    "def val(dataloader, model, loss_fn):\n",
    "    loss, current, n = 0.0, 0.0, 0\n",
    "    # eval()：如果模型中有Batch Normalization和Dropout，则不启用，以防改变权值\n",
    "    model.eval()\n",
    "    with torch.no_grad():\n",
    "        for x, y in tqdm(dataloader):\n",
    "            # 前向传播\n",
    "            image, y = x.to(device), y.to(device)\n",
    "            output = model(image)\n",
    "            cur_loss = loss_fn(output, y)\n",
    "            _, pred = torch.max(output, axis=1)\n",
    "            cur_acc = torch.sum(y == pred)/output.shape[0]\n",
    "            loss += cur_loss.item()\n",
    "            current += cur_acc.item()\n",
    "            n = n + 1\n",
    "    \n",
    "    # 计算验证的loss\n",
    "    val_loss = loss / n\n",
    "    print('val_loss=' + str(val_loss))\n",
    "    # 计算验证的准确率\n",
    "    val_acc = current / n\n",
    "    print('val_acc=' + str(val_acc))\n",
    "    return val_loss, val_acc"
   ],
   "outputs": [],
   "execution_count": 46
  },
  {
   "attachments": {},
   "cell_type": "markdown",
   "metadata": {},
   "source": [
    "### 5.4 编写绘图函数"
   ]
  },
  {
   "cell_type": "code",
   "metadata": {
    "ExecuteTime": {
     "end_time": "2024-08-22T08:17:50.148070Z",
     "start_time": "2024-08-22T08:17:50.138272Z"
    }
   },
   "source": [
    "# 定义画图函数\n",
    "# loss函数随训练过程的变化情况\n",
    "def matplot_loss(train_loss, val_loss):\n",
    "    plt.clf()\n",
    "    # 参数label = ''传入字符串类型的值，也就是图例的名称\n",
    "    plt.plot(train_loss, label='train_loss')\n",
    "    plt.plot(val_loss, label='val_loss')\n",
    "    # loc代表了图例在整个坐标轴平面中的位置（一般选取'best'这个参数值）\n",
    "    plt.legend(loc='best')\n",
    "    plt.xlabel('epoch')\n",
    "    plt.ylabel('loss')\n",
    "    plt.title(\"训练集和验证集的loss值对比图\")\n",
    "    plt.savefig('loss.png')\n",
    " \n",
    "# 准确率随训练过程的变化情况\n",
    "def matplot_acc(train_acc, val_acc):\n",
    "    plt.clf()\n",
    "    plt.plot(train_acc, label = 'train_acc')\n",
    "    plt.plot(val_acc, label = 'val_acc')\n",
    "    plt.legend(loc = 'best')\n",
    "    plt.xlabel('epoch')\n",
    "    plt.ylabel('acc')\n",
    "    plt.title(\"训练集和验证集的acc值对比图\")\n",
    "    plt.savefig('acc.png')"
   ],
   "outputs": [],
   "execution_count": 47
  },
  {
   "attachments": {},
   "cell_type": "markdown",
   "metadata": {},
   "source": [
    "### 5.5 进入训练主循环"
   ]
  },
  {
   "cell_type": "code",
   "metadata": {
    "ExecuteTime": {
     "end_time": "2024-08-22T08:18:33.782783Z",
     "start_time": "2024-08-22T08:17:51.086953Z"
    }
   },
   "source": [
    "min_acc = 0\n",
    "t0 = time.time()\n",
    "# 主循环\n",
    "for t in range(epoch):\n",
    "    print(f\"epoch{t+1}\\n----------\")\n",
    "    # 训练模型\n",
    "    train_loss, train_acc = train(train_dataloader, model, loss_fn, optimizer)\n",
    "    # 验证模型\n",
    "    val_loss, val_acc = val(val_dataloader, model, loss_fn)\n",
    "    lr_scheduler.step()\n",
    "\n",
    "    # 记录本轮结果\n",
    "    loss_train.append(train_loss)\n",
    "    acc_train.append(train_acc)\n",
    "    loss_val.append(val_loss)\n",
    "    acc_val.append(val_acc)\n",
    "\n",
    "    # 保存最好的模型权重\n",
    "    if val_acc > min_acc:\n",
    "        folder = 'save_model'\n",
    "        # path.exists：判断括号里的文件是否存在的意思，括号内可以是文件路径，存在为True\n",
    "        if not os.path.exists(folder):\n",
    "            # os.mkdir() 方法用于以数字权限模式创建目录\n",
    "            os.mkdir('save_model')\n",
    "        min_acc = val_acc\n",
    "        print(f\"save best model, 第{t+1}轮\")\n",
    "        # torch.save(state, dir)：保存模型等相关参数，dir表示保存文件的路径+保存文件名\n",
    "        # model.state_dict()：返回的是一个OrderedDict，存储了网络结构的名字和对应的参数\n",
    "        torch.save(model.state_dict(), 'save_model/best_model.pth')\n",
    "\n",
    "    # 保存最后一轮权重\n",
    "    if t == epoch-1:\n",
    "        torch.save(model.state_dict(), 'save_model/best_model.pth')\n",
    "\n",
    "# 计时\n",
    "t1=time.time()\n",
    "dt=t1-t0\n",
    "print(str(epoch)+'epochs done in'+str(dt)+'s.')"
   ],
   "outputs": [
    {
     "name": "stdout",
     "output_type": "stream",
     "text": [
      "epoch1\n",
      "----------\n"
     ]
    },
    {
     "name": "stderr",
     "output_type": "stream",
     "text": [
      "100%|██████████| 80/80 [00:02<00:00, 31.32it/s]\n"
     ]
    },
    {
     "name": "stdout",
     "output_type": "stream",
     "text": [
      "train_loss=0.6960685789585114\n",
      "train_acc=0.4765625\n"
     ]
    },
    {
     "name": "stderr",
     "output_type": "stream",
     "text": [
      "100%|██████████| 20/20 [00:00<00:00, 88.03it/s]\n"
     ]
    },
    {
     "name": "stdout",
     "output_type": "stream",
     "text": [
      "val_loss=0.6937485784292221\n",
      "val_acc=0.5\n",
      "save best model, 第1轮\n",
      "epoch2\n",
      "----------\n"
     ]
    },
    {
     "name": "stderr",
     "output_type": "stream",
     "text": [
      "100%|██████████| 80/80 [00:01<00:00, 44.82it/s]\n"
     ]
    },
    {
     "name": "stdout",
     "output_type": "stream",
     "text": [
      "train_loss=0.6953988909721375\n",
      "train_acc=0.5\n"
     ]
    },
    {
     "name": "stderr",
     "output_type": "stream",
     "text": [
      "100%|██████████| 20/20 [00:00<00:00, 93.72it/s]\n"
     ]
    },
    {
     "name": "stdout",
     "output_type": "stream",
     "text": [
      "val_loss=0.6976930946111679\n",
      "val_acc=0.5\n",
      "epoch3\n",
      "----------\n"
     ]
    },
    {
     "name": "stderr",
     "output_type": "stream",
     "text": [
      "100%|██████████| 80/80 [00:01<00:00, 45.73it/s]\n"
     ]
    },
    {
     "name": "stdout",
     "output_type": "stream",
     "text": [
      "train_loss=0.6940444722771645\n",
      "train_acc=0.509375\n"
     ]
    },
    {
     "name": "stderr",
     "output_type": "stream",
     "text": [
      "100%|██████████| 20/20 [00:00<00:00, 89.00it/s]\n"
     ]
    },
    {
     "name": "stdout",
     "output_type": "stream",
     "text": [
      "val_loss=0.6908193945884704\n",
      "val_acc=0.525\n",
      "save best model, 第3轮\n",
      "epoch4\n",
      "----------\n"
     ]
    },
    {
     "name": "stderr",
     "output_type": "stream",
     "text": [
      "100%|██████████| 80/80 [00:01<00:00, 45.35it/s]\n"
     ]
    },
    {
     "name": "stdout",
     "output_type": "stream",
     "text": [
      "train_loss=0.6987555995583534\n",
      "train_acc=0.53125\n"
     ]
    },
    {
     "name": "stderr",
     "output_type": "stream",
     "text": [
      "100%|██████████| 20/20 [00:00<00:00, 94.63it/s]\n"
     ]
    },
    {
     "name": "stdout",
     "output_type": "stream",
     "text": [
      "val_loss=0.6902727961540223\n",
      "val_acc=0.60625\n",
      "save best model, 第4轮\n",
      "epoch5\n",
      "----------\n"
     ]
    },
    {
     "name": "stderr",
     "output_type": "stream",
     "text": [
      "100%|██████████| 80/80 [00:01<00:00, 45.51it/s]\n"
     ]
    },
    {
     "name": "stdout",
     "output_type": "stream",
     "text": [
      "train_loss=0.6939108788967132\n",
      "train_acc=0.5\n"
     ]
    },
    {
     "name": "stderr",
     "output_type": "stream",
     "text": [
      "100%|██████████| 20/20 [00:00<00:00, 93.20it/s]\n"
     ]
    },
    {
     "name": "stdout",
     "output_type": "stream",
     "text": [
      "val_loss=0.6886799305677413\n",
      "val_acc=0.5125\n",
      "epoch6\n",
      "----------\n"
     ]
    },
    {
     "name": "stderr",
     "output_type": "stream",
     "text": [
      "100%|██████████| 80/80 [00:01<00:00, 46.29it/s]\n"
     ]
    },
    {
     "name": "stdout",
     "output_type": "stream",
     "text": [
      "train_loss=0.6868110552430153\n",
      "train_acc=0.5453125\n"
     ]
    },
    {
     "name": "stderr",
     "output_type": "stream",
     "text": [
      "100%|██████████| 20/20 [00:00<00:00, 95.45it/s] \n"
     ]
    },
    {
     "name": "stdout",
     "output_type": "stream",
     "text": [
      "val_loss=0.6512314796447753\n",
      "val_acc=0.74375\n",
      "save best model, 第6轮\n",
      "epoch7\n",
      "----------\n"
     ]
    },
    {
     "name": "stderr",
     "output_type": "stream",
     "text": [
      "100%|██████████| 80/80 [00:01<00:00, 45.41it/s]\n"
     ]
    },
    {
     "name": "stdout",
     "output_type": "stream",
     "text": [
      "train_loss=0.6825297996401787\n",
      "train_acc=0.59375\n"
     ]
    },
    {
     "name": "stderr",
     "output_type": "stream",
     "text": [
      "100%|██████████| 20/20 [00:00<00:00, 93.45it/s]\n"
     ]
    },
    {
     "name": "stdout",
     "output_type": "stream",
     "text": [
      "val_loss=0.6995043724775314\n",
      "val_acc=0.5\n",
      "epoch8\n",
      "----------\n"
     ]
    },
    {
     "name": "stderr",
     "output_type": "stream",
     "text": [
      "100%|██████████| 80/80 [00:01<00:00, 46.29it/s]\n"
     ]
    },
    {
     "name": "stdout",
     "output_type": "stream",
     "text": [
      "train_loss=0.694343538582325\n",
      "train_acc=0.5015625\n"
     ]
    },
    {
     "name": "stderr",
     "output_type": "stream",
     "text": [
      "100%|██████████| 20/20 [00:00<00:00, 94.15it/s]\n"
     ]
    },
    {
     "name": "stdout",
     "output_type": "stream",
     "text": [
      "val_loss=0.6927573591470718\n",
      "val_acc=0.5625\n",
      "epoch9\n",
      "----------\n"
     ]
    },
    {
     "name": "stderr",
     "output_type": "stream",
     "text": [
      "100%|██████████| 80/80 [00:01<00:00, 46.32it/s]\n"
     ]
    },
    {
     "name": "stdout",
     "output_type": "stream",
     "text": [
      "train_loss=0.6913502231240273\n",
      "train_acc=0.534375\n"
     ]
    },
    {
     "name": "stderr",
     "output_type": "stream",
     "text": [
      "100%|██████████| 20/20 [00:00<00:00, 90.52it/s]\n"
     ]
    },
    {
     "name": "stdout",
     "output_type": "stream",
     "text": [
      "val_loss=0.6683621793985367\n",
      "val_acc=0.5875\n",
      "epoch10\n",
      "----------\n"
     ]
    },
    {
     "name": "stderr",
     "output_type": "stream",
     "text": [
      "100%|██████████| 80/80 [00:01<00:00, 46.06it/s]\n"
     ]
    },
    {
     "name": "stdout",
     "output_type": "stream",
     "text": [
      "train_loss=0.5128790680319071\n",
      "train_acc=0.753125\n"
     ]
    },
    {
     "name": "stderr",
     "output_type": "stream",
     "text": [
      "100%|██████████| 20/20 [00:00<00:00, 95.07it/s]\n"
     ]
    },
    {
     "name": "stdout",
     "output_type": "stream",
     "text": [
      "val_loss=0.4476055383682251\n",
      "val_acc=0.78125\n",
      "save best model, 第10轮\n",
      "epoch11\n",
      "----------\n"
     ]
    },
    {
     "name": "stderr",
     "output_type": "stream",
     "text": [
      "100%|██████████| 80/80 [00:01<00:00, 46.17it/s]\n"
     ]
    },
    {
     "name": "stdout",
     "output_type": "stream",
     "text": [
      "train_loss=0.3588425565510988\n",
      "train_acc=0.8515625\n"
     ]
    },
    {
     "name": "stderr",
     "output_type": "stream",
     "text": [
      "100%|██████████| 20/20 [00:00<00:00, 93.64it/s]\n"
     ]
    },
    {
     "name": "stdout",
     "output_type": "stream",
     "text": [
      "val_loss=0.2942528538405895\n",
      "val_acc=0.88125\n",
      "save best model, 第11轮\n",
      "epoch12\n",
      "----------\n"
     ]
    },
    {
     "name": "stderr",
     "output_type": "stream",
     "text": [
      "100%|██████████| 80/80 [00:01<00:00, 45.58it/s]\n"
     ]
    },
    {
     "name": "stdout",
     "output_type": "stream",
     "text": [
      "train_loss=0.24987438709940762\n",
      "train_acc=0.8953125\n"
     ]
    },
    {
     "name": "stderr",
     "output_type": "stream",
     "text": [
      "100%|██████████| 20/20 [00:00<00:00, 95.23it/s]\n"
     ]
    },
    {
     "name": "stdout",
     "output_type": "stream",
     "text": [
      "val_loss=0.34216301068663596\n",
      "val_acc=0.90625\n",
      "save best model, 第12轮\n",
      "epoch13\n",
      "----------\n"
     ]
    },
    {
     "name": "stderr",
     "output_type": "stream",
     "text": [
      "100%|██████████| 80/80 [00:01<00:00, 45.85it/s]\n"
     ]
    },
    {
     "name": "stdout",
     "output_type": "stream",
     "text": [
      "train_loss=0.25456530891824514\n",
      "train_acc=0.909375\n"
     ]
    },
    {
     "name": "stderr",
     "output_type": "stream",
     "text": [
      "100%|██████████| 20/20 [00:00<00:00, 93.69it/s]\n"
     ]
    },
    {
     "name": "stdout",
     "output_type": "stream",
     "text": [
      "val_loss=0.25054148994386194\n",
      "val_acc=0.90625\n",
      "epoch14\n",
      "----------\n"
     ]
    },
    {
     "name": "stderr",
     "output_type": "stream",
     "text": [
      "100%|██████████| 80/80 [00:01<00:00, 46.03it/s]\n"
     ]
    },
    {
     "name": "stdout",
     "output_type": "stream",
     "text": [
      "train_loss=0.19389050541212782\n",
      "train_acc=0.928125\n"
     ]
    },
    {
     "name": "stderr",
     "output_type": "stream",
     "text": [
      "100%|██████████| 20/20 [00:00<00:00, 92.15it/s]\n"
     ]
    },
    {
     "name": "stdout",
     "output_type": "stream",
     "text": [
      "val_loss=0.4948273262940347\n",
      "val_acc=0.86875\n",
      "epoch15\n",
      "----------\n"
     ]
    },
    {
     "name": "stderr",
     "output_type": "stream",
     "text": [
      "100%|██████████| 80/80 [00:01<00:00, 46.39it/s]\n"
     ]
    },
    {
     "name": "stdout",
     "output_type": "stream",
     "text": [
      "train_loss=0.24865785464644433\n",
      "train_acc=0.9046875\n"
     ]
    },
    {
     "name": "stderr",
     "output_type": "stream",
     "text": [
      "100%|██████████| 20/20 [00:00<00:00, 95.10it/s]\n"
     ]
    },
    {
     "name": "stdout",
     "output_type": "stream",
     "text": [
      "val_loss=0.31396567560732364\n",
      "val_acc=0.88125\n",
      "epoch16\n",
      "----------\n"
     ]
    },
    {
     "name": "stderr",
     "output_type": "stream",
     "text": [
      "100%|██████████| 80/80 [00:01<00:00, 46.48it/s]\n"
     ]
    },
    {
     "name": "stdout",
     "output_type": "stream",
     "text": [
      "train_loss=0.14907971541397275\n",
      "train_acc=0.95\n"
     ]
    },
    {
     "name": "stderr",
     "output_type": "stream",
     "text": [
      "100%|██████████| 20/20 [00:00<00:00, 94.92it/s] \n"
     ]
    },
    {
     "name": "stdout",
     "output_type": "stream",
     "text": [
      "val_loss=0.2126450752839446\n",
      "val_acc=0.925\n",
      "save best model, 第16轮\n",
      "epoch17\n",
      "----------\n"
     ]
    },
    {
     "name": "stderr",
     "output_type": "stream",
     "text": [
      "100%|██████████| 80/80 [00:01<00:00, 46.01it/s]\n"
     ]
    },
    {
     "name": "stdout",
     "output_type": "stream",
     "text": [
      "train_loss=0.15891080586006864\n",
      "train_acc=0.9609375\n"
     ]
    },
    {
     "name": "stderr",
     "output_type": "stream",
     "text": [
      "100%|██████████| 20/20 [00:00<00:00, 93.69it/s]\n"
     ]
    },
    {
     "name": "stdout",
     "output_type": "stream",
     "text": [
      "val_loss=0.2732357304543257\n",
      "val_acc=0.89375\n",
      "epoch18\n",
      "----------\n"
     ]
    },
    {
     "name": "stderr",
     "output_type": "stream",
     "text": [
      "100%|██████████| 80/80 [00:01<00:00, 46.16it/s]\n"
     ]
    },
    {
     "name": "stdout",
     "output_type": "stream",
     "text": [
      "train_loss=0.18590006575686857\n",
      "train_acc=0.9359375\n"
     ]
    },
    {
     "name": "stderr",
     "output_type": "stream",
     "text": [
      "100%|██████████| 20/20 [00:00<00:00, 94.22it/s]\n"
     ]
    },
    {
     "name": "stdout",
     "output_type": "stream",
     "text": [
      "val_loss=0.37154248289298264\n",
      "val_acc=0.9125\n",
      "epoch19\n",
      "----------\n"
     ]
    },
    {
     "name": "stderr",
     "output_type": "stream",
     "text": [
      "100%|██████████| 80/80 [00:01<00:00, 46.18it/s]\n"
     ]
    },
    {
     "name": "stdout",
     "output_type": "stream",
     "text": [
      "train_loss=0.18993764854967593\n",
      "train_acc=0.940625\n"
     ]
    },
    {
     "name": "stderr",
     "output_type": "stream",
     "text": [
      "100%|██████████| 20/20 [00:00<00:00, 95.18it/s]\n"
     ]
    },
    {
     "name": "stdout",
     "output_type": "stream",
     "text": [
      "val_loss=0.33784817066043615\n",
      "val_acc=0.84375\n",
      "epoch20\n",
      "----------\n"
     ]
    },
    {
     "name": "stderr",
     "output_type": "stream",
     "text": [
      "100%|██████████| 80/80 [00:01<00:00, 46.10it/s]\n"
     ]
    },
    {
     "name": "stdout",
     "output_type": "stream",
     "text": [
      "train_loss=0.15693299411796033\n",
      "train_acc=0.94375\n"
     ]
    },
    {
     "name": "stderr",
     "output_type": "stream",
     "text": [
      "100%|██████████| 20/20 [00:00<00:00, 90.86it/s]\n"
     ]
    },
    {
     "name": "stdout",
     "output_type": "stream",
     "text": [
      "val_loss=0.267960867844522\n",
      "val_acc=0.90625\n",
      "20epochs done in42.68819713592529s.\n"
     ]
    }
   ],
   "execution_count": 48
  },
  {
   "cell_type": "code",
   "metadata": {
    "ExecuteTime": {
     "end_time": "2024-08-22T08:18:34.000946Z",
     "start_time": "2024-08-22T08:18:33.782783Z"
    }
   },
   "source": [
    "# 绘图loss\n",
    "matplot_loss(loss_train, loss_val)"
   ],
   "outputs": [
    {
     "data": {
      "text/plain": [
       "<Figure size 640x480 with 1 Axes>"
      ],
      "image/png": "[encoded data removed]"
     },
     "metadata": {},
     "output_type": "display_data"
    }
   ],
   "execution_count": 49
  },
  {
   "cell_type": "code",
   "execution_count": null,
   "metadata": {},
   "outputs": [],
   "source": [
    "# 绘图acc\n",
    "matplot_acc(acc_train, acc_val)"
   ]
  },
  {
   "attachments": {},
   "cell_type": "markdown",
   "metadata": {},
   "source": [
    "## 6 运行推理"
   ]
  },
  {
   "attachments": {},
   "cell_type": "markdown",
   "metadata": {},
   "source": [
    "## 6.1 加载模型与权重"
   ]
  },
  {
   "cell_type": "code",
   "execution_count": null,
   "metadata": {},
   "outputs": [],
   "source": [
    "# 如果有NVIDA显卡，可以转到GPU训练，否则用CPU\n",
    "device = 'cuda' if torch.cuda.is_available() else 'cpu'\n",
    "# 加载训练好的模型和权重\n",
    "model = MyAlexNet().to(device)  # 实例化模型\n",
    "model.load_state_dict(torch.load('save_model/best_model.pth'))  # 加载最优模型权重\n",
    "model.eval()  # 设置模型为评估模式（推理模式），关闭dropout和batch normalization等操作"
   ]
  },
  {
   "attachments": {},
   "cell_type": "markdown",
   "metadata": {},
   "source": [
    "## 6.2 加载图像并进行推理"
   ]
  },
  {
   "cell_type": "code",
   "execution_count": null,
   "metadata": {},
   "outputs": [],
   "source": [
    "# 定义一个用于推理的transform，确保与训练时的transform一致\n",
    "# 将图像的像素值归一化到[-1,1]之间\n",
    "normalize = transforms.Normalize([0.5, 0.5, 0.5], [0.5, 0.5, 0.5])\n",
    "infer_transform = transforms.Compose([\n",
    "    transforms.ToTensor(),\n",
    "    transforms.Resize((224, 224)),\n",
    "    normalize\n",
    "])\n",
    "\n",
    "# 加载单张图像进行推理\n",
    "def predict_image(image_path, model, transform):\n",
    "    image = imread(image_path)  # 读取图像\n",
    "    image = transform(image)  # 预处理图像\n",
    "    image = image.unsqueeze(0)  # 添加一个维度，将图像转换为一个批次\n",
    "    \n",
    "    image = image.to(device)  # 将图像加载到设备（CPU或GPU）\n",
    "    with torch.no_grad():  # 禁用梯度计算，加快推理速度\n",
    "        output = model(image)  # 进行前向传播\n",
    "        _, pred = torch.max(output, axis=1)  # 获取预测结果的最大值及其索引\n",
    "        pred_label = crackInfo().names[pred.item()]  # 根据预测索引获取标签名称\n",
    "    \n",
    "    return pred_label  # 返回预测的标签\n",
    "\n",
    "# 示例：推理单张图像\n",
    "image_path = '1-CK.jpg'  # 替换为你要推理的图像路径\n",
    "prediction = predict_image(image_path, model, infer_transform)\n",
    "print(f\"预测结果: {prediction}\")"
   ]
  }
 ],
 "metadata": {
  "kernelspec": {
   "display_name": "d2l",
   "language": "python",
   "name": "python3"
  },
  "language_info": {
   "codemirror_mode": {
    "name": "ipython",
    "version": 3
   },
   "file_extension": ".py",
   "mimetype": "text/x-python",
   "name": "python",
   "nbconvert_exporter": "python",
   "pygments_lexer": "ipython3",
   "version": "3.9.16"
  },
  "orig_nbformat": 4
 },
 "nbformat": 4,
 "nbformat_minor": 2
}
