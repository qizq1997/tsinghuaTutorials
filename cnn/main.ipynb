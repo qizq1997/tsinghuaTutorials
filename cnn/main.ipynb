{
 "cells": [
  {
   "attachments": {},
   "cell_type": "markdown",
   "metadata": {},
   "source": [
    "# 实践：CNN模型编程教学"
   ]
  },
  {
   "attachments": {},
   "cell_type": "markdown",
   "metadata": {},
   "source": [
    "## 1 卷积神经网络及其关键组件\n",
    "\n",
    "神经网络可以使用 `torch.nn` 包进行创建。\n",
    "\n",
    "`nn.Module` 包含网络中的各种层和一个返回输出的 `forward(input)` 方法。\n",
    "\n",
    "例如，请看这个对数字图像进行分类的网络LeNet：\n",
    "\n",
    "<img src=\"./assets/lenet.png\" style=\"zoom:100%;\" />\n",
    "\n",
    "这是一个简单的 feed-forward network。它接收输入信息，将其逐层馈送，最后给出输出结果。\n",
    "\n",
    "神经网络的典型训练过程如下：\n",
    "\n",
    "- 定义神经网络，其中包含一些可学习的 parameters（或weights）\n",
    "\n",
    "- 在数据集上进行迭代\n",
    "\n",
    "- 通过网络处理 input\n",
    "\n",
    "- 计算loss（输出离正确还有多远）\n",
    "\n",
    "- 将梯度传回网络参数中\n",
    "\n",
    "- 更新网络权重，通常使用简单的更新规则：`weight = weight - learning_rate * gradient`"
   ]
  },
  {
   "attachments": {},
   "cell_type": "markdown",
   "metadata": {},
   "source": [
    "### 1.1 网络结构的定义"
   ]
  },
  {
   "cell_type": "code",
   "metadata": {
    "ExecuteTime": {
     "end_time": "2024-08-22T04:15:31.891867Z",
     "start_time": "2024-08-22T04:15:31.884664Z"
    }
   },
   "source": [
    "import torch\n",
    "import torch.nn as nn\n",
    "import torch.nn.functional as F"
   ],
   "outputs": [],
   "execution_count": 59
  },
  {
   "cell_type": "code",
   "metadata": {
    "ExecuteTime": {
     "end_time": "2024-08-22T04:17:14.557543Z",
     "start_time": "2024-08-22T04:17:14.550408Z"
    }
   },
   "source": [
    "class Net(nn.Module):\n",
    "    \"\"\"定义 LeNet 的网络结构\"\"\"\n",
    "\n",
    "    def __init__(self):\n",
    "        super(Net, self).__init__()  # 调用父类的 __init__() 方法\n",
    "        # 卷积层 conv\n",
    "        # conv1: 输入大小为32*32，输出大小为28*28，输入通道为1，输出为6，卷积核大小为5\n",
    "        self.conv1 = nn.Conv2d(in_channels=1, out_channels=6, kernel_size=5)\n",
    "        # conv2: 输入大小为14*14，输出大小为10*10，输入通道为6，输出为16，卷积核大小为5\n",
    "        self.conv2= nn.Conv2d(in_channels=6, out_channels=16, kernel_size=5)\n",
    "        \"\"\" ------------- end -------------- \"\"\"\n",
    "        # 全连接层 fc\n",
    "        # fc1: 输入神经元数目 16 * 5 * 5，输出神经元数目 120\n",
    "        self.fc1 = nn.Linear(16 * 5 * 5, 120)\n",
    "        \"\"\" -------- Your code here -------- \"\"\"\n",
    "        # fc2: 输入神经元数目 120，输出神经元数目 84\n",
    "        self.fc2 = nn.Linear(120, 84)\n",
    "        # fc3: 输入神经元数目 84，输出神经元数目 10\n",
    "        self.fc3 = nn.Linear(84, 10)\n",
    "        \"\"\" ------------- end -------------- \"\"\"\n",
    "\n",
    "    def forward(self, x):\n",
    "        # conv1 - relu - maxpool(2x)\n",
    "        x = F.max_pool2d(F.relu(self.conv1(x)), 2)\n",
    "        # conv2 - relu -maxpool(2x)\n",
    "        x = F.max_pool2d(F.relu(self.conv2(x)), 2)\n",
    "        \"\"\" ------------- end -------------- \"\"\"\n",
    "        # flatten\n",
    "        x = torch.flatten(x, start_dim=1, end_dim=-1)  # 把除了 batch 维度(dim=0)的数据全部 flatten\n",
    "        # fc1 - relu\n",
    "        x = F.relu(self.fc1(x))\n",
    "        x = F.relu(self.fc2(x))\n",
    "        x = self.fc3(x)\n",
    "        return x\n"
   ],
   "outputs": [],
   "execution_count": 64
  },
  {
   "cell_type": "code",
   "metadata": {
    "ExecuteTime": {
     "end_time": "2024-08-22T04:17:15.128405Z",
     "start_time": "2024-08-22T04:17:15.124382Z"
    }
   },
   "source": [
    "# 输出网络结构\n",
    "net = Net()\n",
    "print(net)"
   ],
   "outputs": [
    {
     "name": "stdout",
     "output_type": "stream",
     "text": [
      "Net(\n",
      "  (conv1): Conv2d(1, 6, kernel_size=(5, 5), stride=(1, 1))\n",
      "  (conv2): Conv2d(6, 16, kernel_size=(5, 5), stride=(1, 1))\n",
      "  (fc1): Linear(in_features=400, out_features=120, bias=True)\n",
      "  (fc2): Linear(in_features=120, out_features=84, bias=True)\n",
      "  (fc3): Linear(in_features=84, out_features=10, bias=True)\n",
      ")\n"
     ]
    }
   ],
   "execution_count": 65
  },
  {
   "attachments": {},
   "cell_type": "markdown",
   "metadata": {},
   "source": [
    "我们只需定义 `forward` 函数，`backward` 函数会使用 `autograd` 自动计算。可以在前向函数中使用任何 tensor 运算。\n",
    "\n",
    "模型的**可学习参数**由 `net.parameters()` 返回。"
   ]
  },
  {
   "cell_type": "code",
   "metadata": {
    "ExecuteTime": {
     "end_time": "2024-08-22T04:17:16.642347Z",
     "start_time": "2024-08-22T04:17:16.634188Z"
    }
   },
   "source": [
    "net.parameters()"
   ],
   "outputs": [
    {
     "data": {
      "text/plain": [
       "<generator object Module.parameters at 0x0000022F821AFAE0>"
      ]
     },
     "execution_count": 66,
     "metadata": {},
     "output_type": "execute_result"
    }
   ],
   "execution_count": 66
  },
  {
   "attachments": {},
   "cell_type": "markdown",
   "metadata": {},
   "source": [
    "`net.parameters()` 是一个 `generator` 对象，可以进行迭代调用。\n",
    "\n",
    "该 `generator` 中的每一个参数类型都是 `torch.nn.Parameter()`，可以通过 `.data` 和 `.grad` 分别调用参数的数值与梯度(均为 tensor)。"
   ]
  },
  {
   "cell_type": "code",
   "metadata": {
    "ExecuteTime": {
     "end_time": "2024-08-22T04:17:19.952045Z",
     "start_time": "2024-08-22T04:17:19.946305Z"
    }
   },
   "source": [
    "params = list(net.parameters())\n",
    "print(f\"The number of params: {len(params)}\")\n",
    "for i in range(len(params)):\n",
    "    print(f\"param[{i}] 的形状为: {params[i].size()}\")  # 打印 param[i] 的形状"
   ],
   "outputs": [
    {
     "name": "stdout",
     "output_type": "stream",
     "text": [
      "The number of params: 10\n",
      "param[0] 的形状为: torch.Size([6, 1, 5, 5])\n",
      "param[1] 的形状为: torch.Size([6])\n",
      "param[2] 的形状为: torch.Size([16, 6, 5, 5])\n",
      "param[3] 的形状为: torch.Size([16])\n",
      "param[4] 的形状为: torch.Size([120, 400])\n",
      "param[5] 的形状为: torch.Size([120])\n",
      "param[6] 的形状为: torch.Size([84, 120])\n",
      "param[7] 的形状为: torch.Size([84])\n",
      "param[8] 的形状为: torch.Size([10, 84])\n",
      "param[9] 的形状为: torch.Size([10])\n"
     ]
    }
   ],
   "execution_count": 67
  },
  {
   "attachments": {},
   "cell_type": "markdown",
   "metadata": {},
   "source": [
    "注意：上面的 `params[i]`，间隔代表每层的 `weights` 和 `bias`。\n",
    "\n",
    "让我们试试 `32x32` 的随机输入。注：该网络（LeNet）的预期输入大小为 `32x32`。要在 MNIST 数据集上使用该网络，请将数据集中的图像调整为 `32x32`。\n",
    "\n",
    "注意，此处并没有使用 `net.forward(input)`, 而是直接使用了 `net(input)` 进行前项传播。这是因为 `Net` 类继承了 `nn.Module` 类中的 `__call__` 方法，定义了表示该实例如何被调用。这些 magic method 是自动调用的，可以理解为父类定义的`__call__` 方法调用了子类定义的 `forward` 函数。"
   ]
  },
  {
   "cell_type": "code",
   "metadata": {
    "ExecuteTime": {
     "end_time": "2024-08-22T04:17:21.439283Z",
     "start_time": "2024-08-22T04:17:21.428330Z"
    }
   },
   "source": [
    "input = torch.randn(1, 1, 32, 32)  # 随机生成一个图片\n",
    "input.requires_grad = True  # 设置计算 input 的梯度\n",
    "out = net(input)\n",
    "print(out)"
   ],
   "outputs": [
    {
     "name": "stdout",
     "output_type": "stream",
     "text": [
      "tensor([[-0.0555,  0.0532,  0.0230,  0.0029,  0.0131,  0.1070, -0.0534, -0.0196,\n",
      "          0.0735,  0.0084]], grad_fn=<AddmmBackward0>)\n"
     ]
    }
   ],
   "execution_count": 68
  },
  {
   "attachments": {},
   "cell_type": "markdown",
   "metadata": {},
   "source": [
    "将所有参数的梯度缓存清零，并使用随机梯度反推："
   ]
  },
  {
   "cell_type": "code",
   "metadata": {
    "ExecuteTime": {
     "end_time": "2024-08-22T04:17:23.548460Z",
     "start_time": "2024-08-22T04:17:23.464796Z"
    }
   },
   "source": [
    "net.zero_grad()\n",
    "out.backward(torch.randn(1, 10))\n",
    "input.grad"
   ],
   "outputs": [
    {
     "data": {
      "text/plain": [
       "tensor([[[[ 6.7816e-06,  9.7644e-05,  1.7583e-04,  ...,  1.4670e-05,\n",
       "           -2.2106e-04,  0.0000e+00],\n",
       "          [-1.9365e-04, -2.7680e-05, -7.5513e-05,  ..., -4.5279e-04,\n",
       "           -1.9587e-04, -1.9003e-04],\n",
       "          [ 1.6933e-04,  4.7252e-04,  3.0327e-04,  ...,  8.8993e-05,\n",
       "           -4.6855e-04,  2.2839e-06],\n",
       "          ...,\n",
       "          [ 1.1059e-04, -1.7408e-04,  8.7069e-05,  ...,  3.3004e-04,\n",
       "           -7.5918e-04, -2.3339e-04],\n",
       "          [ 0.0000e+00,  0.0000e+00, -4.7500e-04,  ..., -1.7811e-04,\n",
       "           -1.7659e-04, -6.7463e-05],\n",
       "          [ 0.0000e+00,  0.0000e+00, -2.7492e-04,  ..., -6.7486e-05,\n",
       "           -4.6911e-04,  0.0000e+00]]]])"
      ]
     },
     "execution_count": 69,
     "metadata": {},
     "output_type": "execute_result"
    }
   ],
   "execution_count": 69
  },
  {
   "attachments": {},
   "cell_type": "markdown",
   "metadata": {},
   "source": [
    "> 注意： `torch.nn` 仅支持 mini-batches。即，整个 `torch.nn` 软件包只支持 mini-batch 样本的输入，而不支持单个样本的输入。例如，`nn.Conv2d` 将接收 `(B, C, H, W)` 的 4D tensor。如果只有单个样本，只需使用 `input.unsqueeze(0)` 添加一个假的 batch 维度即可。"
   ]
  },
  {
   "attachments": {},
   "cell_type": "markdown",
   "metadata": {},
   "source": [
    "### 3.2 损失函数 \n",
    "\n",
    "损失函数利用 (`input`, `target`) 这对输入，计算出一个估计 `input` 与 `target` 之间距离的值。\n",
    "\n",
    "`nn` 软件包中有几种不同的[损失函数](https://pytorch.org/docs/nn.html#loss-functions)。一个简单的损失函数是：`nn.MSELoss`，它计算输出与目标之间的均方误差。"
   ]
  },
  {
   "cell_type": "code",
   "metadata": {
    "ExecuteTime": {
     "end_time": "2024-08-22T04:17:25.635404Z",
     "start_time": "2024-08-22T04:17:25.628761Z"
    }
   },
   "source": [
    "output = net(input)\n",
    "target = torch.randn(10)  # 生成形状为 (10) 随机数\n",
    "target = target.view(1, -1)  # 相当于 numpy 的 reshape，改变形状为 (1, 10)\n",
    "target"
   ],
   "outputs": [
    {
     "data": {
      "text/plain": [
       "tensor([[-0.1361, -2.4984, -0.0997, -0.7141, -1.6717, -0.1548, -2.2071, -0.3988,\n",
       "         -0.3203,  1.7211]])"
      ]
     },
     "execution_count": 70,
     "metadata": {},
     "output_type": "execute_result"
    }
   ],
   "execution_count": 70
  },
  {
   "cell_type": "code",
   "metadata": {
    "ExecuteTime": {
     "end_time": "2024-08-22T04:17:26.294679Z",
     "start_time": "2024-08-22T04:17:26.276396Z"
    }
   },
   "source": [
    "criterion = nn.MSELoss()\n",
    "loss = criterion(output, target)\n",
    "print(loss)"
   ],
   "outputs": [
    {
     "name": "stdout",
     "output_type": "stream",
     "text": [
      "tensor(1.7824, grad_fn=<MseLossBackward0>)\n"
     ]
    }
   ],
   "execution_count": 71
  },
  {
   "attachments": {},
   "cell_type": "markdown",
   "metadata": {},
   "source": [
    "### 3.3 误差反向传播\n",
    "\n",
    "要反向传播误差，我们只需 `loss.backward()`。不过在此之前，需要清除现有的梯度，否则梯度将累积到现有梯度中。\n",
    "\n",
    "现在我们调用 `loss.backward()`，看看 `conv1` 的 `bias` 在回传前后的梯度。"
   ]
  },
  {
   "cell_type": "code",
   "metadata": {
    "ExecuteTime": {
     "end_time": "2024-08-22T04:17:27.619462Z",
     "start_time": "2024-08-22T04:17:27.610586Z"
    }
   },
   "source": [
    "net.zero_grad()  # 清空所有参数的 gradient buffer\n",
    "\n",
    "print('conv1.bias.grad before backward')\n",
    "print(net.conv1.bias.grad)\n",
    "\n",
    "loss.backward()\n",
    "\n",
    "print('conv1.bias.grad after backward')\n",
    "print(net.conv1.bias.grad)"
   ],
   "outputs": [
    {
     "name": "stdout",
     "output_type": "stream",
     "text": [
      "conv1.bias.grad before backward\n",
      "None\n",
      "conv1.bias.grad after backward\n",
      "tensor([ 0.0209,  0.0121,  0.0033,  0.0373, -0.0043,  0.0039])\n"
     ]
    }
   ],
   "execution_count": 72
  },
  {
   "attachments": {},
   "cell_type": "markdown",
   "metadata": {},
   "source": [
    "### 更新权重\n",
    "\n",
    "实际应用中最简单的更新规则是 Stochastic Gradient Descent (SGD, 随机梯度下降)：\n",
    "\n",
    "`weight = weight - learning_rate * gradient`\n",
    "\n",
    "我们可以用简单的 Python 代码实现这一功能：\n",
    "\n",
    "```python\n",
    "learning_rate = 0.01\n",
    "for f in net.parameters():\n",
    "    f.data.sub_(f.grad.data * learning_rate)  # sub_() 为就地操作相减\n",
    "```"
   ]
  },
  {
   "attachments": {},
   "cell_type": "markdown",
   "metadata": {},
   "source": [
    "不过，由于使用的是神经网络，因此需要使用各种不同的更新规则，如 SGD、Nesterov-SGD、Adam、RMSProp 等。为此，Pytorch 开发了一个小软件包：`torch.optim`，用于实现所有这些方法。使用它非常简单："
   ]
  },
  {
   "cell_type": "code",
   "metadata": {
    "ExecuteTime": {
     "end_time": "2024-08-22T04:17:29.575870Z",
     "start_time": "2024-08-22T04:17:29.567633Z"
    }
   },
   "source": [
    "import torch.optim as optim\n",
    "\n",
    "# 创建 optimizer\n",
    "optimizer = optim.SGD(net.parameters(), lr=0.01)\n",
    "\n",
    "# 在 train loop 中加入以下代码\n",
    "optimizer.zero_grad()  # 清零 gradient buffers. 实际操作中是对 optimizer 清零\n",
    "output = net(input)  # forward 传播\n",
    "loss = criterion(output, target)  # 计算 loss\n",
    "loss.backward()  # backward 传播\n",
    "optimizer.step()  # 更新参数"
   ],
   "outputs": [],
   "execution_count": 73
  },
  {
   "attachments": {},
   "cell_type": "markdown",
   "metadata": {},
   "source": [
    "## 2 实现一个基于CNN的图像分类器\n",
    "\n",
    "针对视觉，`Pytorch` 创建了一个名为 `torchvision` 的软件包，其中包含用于 `ImageNet`、`CIFAR10`、`MNIST` 等常见数据集的 data loaders 和用于图像的 data transformers，即 `torchvision.datasets` 和 `torch.utils.data.DataLoader`。\n",
    "\n",
    "这提供了极大的便利，并避免了编写模板代码。\n",
    "\n",
    "在本教程中，我们将使用 `CIFAR10` 数据集。该数据集包含以下类别：\"飞机\"、\"汽车\"、\"鸟\"、\"猫\"、\"鹿\"、\"狗\"、\"青蛙\"、\"马\"、\"船\"、\"卡车\"。CIFAR-10 中的图像大小为 `3x32x32`，即 `32x32` 像素大小的三通道彩色图像。\n",
    "\n",
    "<img src=\"./assets/cifar10.png\" style=\"zoom:100%;\" />"
   ]
  },
  {
   "attachments": {},
   "cell_type": "markdown",
   "metadata": {},
   "source": [
    "我们将依次执行以下步骤：\n",
    "\n",
    "- 使用 `torchvision` 加载 `CIFAR10` 训练数据集和测试数据集并将其 `normalize`\n",
    "\n",
    "- 定义卷积神经网络\n",
    "\n",
    "- 定义损失函数\n",
    "\n",
    "- 在训练数据上训练网络\n",
    "\n",
    "- 在测试数据上测试网络"
   ]
  },
  {
   "attachments": {},
   "cell_type": "markdown",
   "metadata": {},
   "source": [
    "### 2.1 加载 CIFAR10 数据集并预处理\n",
    "\n",
    "使用 `torchvision`，加载 `CIFAR10` 非常简单。"
   ]
  },
  {
   "cell_type": "code",
   "metadata": {
    "ExecuteTime": {
     "end_time": "2024-08-22T04:17:31.872268Z",
     "start_time": "2024-08-22T04:17:31.856700Z"
    }
   },
   "source": [
    "import torch\n",
    "import torchvision\n",
    "import torchvision.transforms as transforms"
   ],
   "outputs": [],
   "execution_count": 74
  },
  {
   "attachments": {},
   "cell_type": "markdown",
   "metadata": {},
   "source": [
    "`CIFAR10` 是一个包含 60000 张 32x32 彩色图像的数据集，分为 10 个类别。其中 50000 张为训练集，10000 张为测试集。\n",
    "\n",
    "`torchvision` 数据集的输出是范围为 `[0, 1]` 的 `PILImage` 图像。我们将其转换为归一化范围为 `[-1, 1]` 的 tensor。具体操作为 `(img - 0.5) / 0.5` 。\n",
    "\n",
    "> 如果在 `Windows` 上运行时出现 `BrokenPipeError`，请尝试将 `torch.utils.data.DataLoader()` 的 `num_worker` 设置为 `0`。\n"
   ]
  },
  {
   "cell_type": "code",
   "metadata": {
    "ExecuteTime": {
     "end_time": "2024-08-22T04:17:34.207124Z",
     "start_time": "2024-08-22T04:17:33.053129Z"
    }
   },
   "source": [
    "# 定义一系列变换\n",
    "# transforms.Normalize() 接受两个参数 mean 和 std，分别代表每个通道的均值和标准差\n",
    "# 均设置为 0.5，相当于 (img - 0.5) / 0.5，即完成了对像素值从 [0, 1] 到 [-1. 1]的映射。\n",
    "transform = transforms.Compose(\n",
    "    [transforms.ToTensor(), transforms.Normalize((0.5, 0.5, 0.5), (0.5, 0.5, 0.5))]\n",
    ")\n",
    "\n",
    "batch_size = 4\n",
    "\n",
    "trainset = torchvision.datasets.CIFAR10(\n",
    "    root=\"./data\", train=True, download=True, transform=transform\n",
    ")\n",
    "\n",
    "trainloader = torch.utils.data.DataLoader(\n",
    "    trainset, batch_size=batch_size, shuffle=True, num_workers=2\n",
    ")\n",
    "\n",
    "testset = torchvision.datasets.CIFAR10(\n",
    "    root=\"./data\", train=False, download=True, transform=transform\n",
    ")\n",
    "\n",
    "testloader = torch.utils.data.DataLoader(\n",
    "    testset, batch_size=batch_size, shuffle=False, num_workers=2\n",
    ")\n",
    "\n",
    "classes = (\n",
    "    \"plane\",\n",
    "    \"car\",\n",
    "    \"bird\",\n",
    "    \"cat\",\n",
    "    \"deer\",\n",
    "    \"dog\",\n",
    "    \"frog\",\n",
    "    \"horse\",\n",
    "    \"ship\",\n",
    "    \"truck\",\n",
    ")"
   ],
   "outputs": [
    {
     "name": "stdout",
     "output_type": "stream",
     "text": [
      "Files already downloaded and verified\n",
      "Files already downloaded and verified\n"
     ]
    }
   ],
   "execution_count": 75
  },
  {
   "attachments": {},
   "cell_type": "markdown",
   "metadata": {},
   "source": [
    "可视化一些训练图像:"
   ]
  },
  {
   "cell_type": "code",
   "metadata": {
    "ExecuteTime": {
     "end_time": "2024-08-22T04:17:34.658740Z",
     "start_time": "2024-08-22T04:17:34.641239Z"
    }
   },
   "source": [
    "import matplotlib.pyplot as plt\n",
    "import numpy as np"
   ],
   "outputs": [],
   "execution_count": 76
  },
  {
   "cell_type": "code",
   "metadata": {
    "ExecuteTime": {
     "end_time": "2024-08-22T04:17:35.187474Z",
     "start_time": "2024-08-22T04:17:35.179728Z"
    }
   },
   "source": [
    "def imshow(img):\n",
    "    # unnormalize, 之前的 normalize 时是 (img - 0.5) / 0.5\n",
    "    img = img / 2 + 0.5  \n",
    "    npimg = img.numpy()\n",
    "    # PILImage 格式的图片是 (C, H, W); matplotlib 绘图时需要 (H, W, C), 采用 np.transpose() 转换\n",
    "    plt.imshow(np.transpose(npimg, (1, 2, 0)))\n",
    "    plt.show()"
   ],
   "outputs": [],
   "execution_count": 77
  },
  {
   "cell_type": "code",
   "metadata": {
    "ExecuteTime": {
     "end_time": "2024-08-22T04:17:42.476841Z",
     "start_time": "2024-08-22T04:17:35.881927Z"
    }
   },
   "source": [
    "# 获取一些训练集中的随机图片\n",
    "# 将 trainloader 转化为迭代器对象\n",
    "dataiter = iter(trainloader)\n",
    "# 迭代一次，得到两个 tensor，images 为 (B, C, H, W)，labels 为 (B)\n",
    "images, labels = next(dataiter)"
   ],
   "outputs": [],
   "execution_count": 78
  },
  {
   "cell_type": "code",
   "metadata": {
    "ExecuteTime": {
     "end_time": "2024-08-22T04:17:42.481626Z",
     "start_time": "2024-08-22T04:17:42.477846Z"
    }
   },
   "source": [
    "# next(dataiter) 返回值的类型为 list，里面装着 2 个 tensor，分别是这一个 batch 的 images 和 labels\n",
    "a = next(dataiter)\n",
    "print(type(a))\n",
    "print(len(a))"
   ],
   "outputs": [
    {
     "name": "stdout",
     "output_type": "stream",
     "text": [
      "<class 'list'>\n",
      "2\n"
     ]
    }
   ],
   "execution_count": 79
  },
  {
   "cell_type": "code",
   "metadata": {
    "ExecuteTime": {
     "end_time": "2024-08-22T04:17:45.248741Z",
     "start_time": "2024-08-22T04:17:45.183734Z"
    }
   },
   "source": [
    "# 显示图片\n",
    "# torchvision.utils.make_grid() 将一个 batch 的图像拼成一个，返回一个 (C, H, W) 的 tensor\n",
    "# 然后调用自定义的 imshow，用 plt 画出来\n",
    "imshow(torchvision.utils.make_grid(images))\n",
    "\n",
    "# 显示 labels\n",
    "# .join() 将一个字符串列表连接成一个字符串，其中列表中的每个元素之间用指定的分隔符（这里是空格）隔开\n",
    "# :5s 表示将该元素格式化为宽度为5的字符串\n",
    "print(' '.join(f\"{classes[labels[j]]:5s}\" for j in range(batch_size)))"
   ],
   "outputs": [
    {
     "data": {
      "text/plain": [
       "<Figure size 640x480 with 1 Axes>"
      ],
      "image/png": "[encoded data removed]"
     },
     "metadata": {},
     "output_type": "display_data"
    },
    {
     "name": "stdout",
     "output_type": "stream",
     "text": [
      "bird  plane plane plane\n"
     ]
    }
   ],
   "execution_count": 80
  },
  {
   "attachments": {},
   "cell_type": "markdown",
   "metadata": {},
   "source": [
    "### 2.2 定义CNN的结构\n",
    "\n",
    "复制之前第1部分中的神经网络，并对其进行修改，以获取 3 通道图像（而不是定义的 1 通道图像）。"
   ]
  },
  {
   "cell_type": "code",
   "metadata": {
    "ExecuteTime": {
     "end_time": "2024-08-22T04:19:03.102306Z",
     "start_time": "2024-08-22T04:19:03.088962Z"
    }
   },
   "source": [
    "import torch\n",
    "import torch.nn as nn\n",
    "import torch.nn.functional as F"
   ],
   "outputs": [],
   "execution_count": 82
  },
  {
   "cell_type": "code",
   "metadata": {
    "ExecuteTime": {
     "end_time": "2024-08-22T04:19:03.631588Z",
     "start_time": "2024-08-22T04:19:03.613125Z"
    }
   },
   "source": [
    "class Net(nn.Module):\n",
    "    \"\"\"定义 3 通道的 LeNet\"\"\"\n",
    "    def __init__(self):\n",
    "        super(Net, self).__init__()  # 调用父类的 __init__() 方法\n",
    "        # 卷积层 conv\n",
    "        # conv1: 输入大小为32*32，输出大小为28*28，输入通道为1，输出为6，卷积核大小为5\n",
    "        self.conv1 = nn.Conv2d(in_channels=3, out_channels=6, kernel_size=5)\n",
    "        # conv2: 输入大小为14*14，输出大小为10*10，输入通道为6，输出为16，卷积核大小为5\n",
    "        self.conv2= nn.Conv2d(in_channels=6, out_channels=16, kernel_size=5)\n",
    "        \"\"\" ------------- end -------------- \"\"\"\n",
    "        # 全连接层 fc\n",
    "        # fc1: 输入神经元数目 16 * 5 * 5，输出神经元数目 120\n",
    "        self.fc1 = nn.Linear(16 * 5 * 5, 120)\n",
    "        \"\"\" -------- Your code here -------- \"\"\"\n",
    "        # fc2: 输入神经元数目 120，输出神经元数目 84\n",
    "        self.fc2 = nn.Linear(120, 84)\n",
    "        # fc3: 输入神经元数目 84，输出神经元数目 10\n",
    "        self.fc3 = nn.Linear(84, 10)\n",
    "        \"\"\" ------------- end -------------- \"\"\"\n",
    "\n",
    "    def forward(self, x):\n",
    "        # conv1 - relu - maxpool(2x)\n",
    "        x = F.max_pool2d(F.relu(self.conv1(x)),2)\n",
    "        # conv2 - relu -maxpool(2x)\n",
    "        x = F.max_pool2d(F.relu(self.conv2(x)),2)\n",
    "        \"\"\" ------------- end -------------- \"\"\"\n",
    "        # flatten\n",
    "        x = torch.flatten(x,start_dim=1, end_dim = -1)  # 把除了 batch 维度(dim=0)的数据全部 flatten\n",
    "        # fc1 - relu\n",
    "        x = F.relu(self.fc1(x))\n",
    "        x = F.relu(self.fc2(x))\n",
    "        x = self.fc3(x)\n",
    "        return x"
   ],
   "outputs": [],
   "execution_count": 83
  },
  {
   "cell_type": "code",
   "metadata": {
    "ExecuteTime": {
     "end_time": "2024-08-22T04:19:04.570261Z",
     "start_time": "2024-08-22T04:19:04.550440Z"
    }
   },
   "source": [
    "# 实例化\n",
    "net = Net()"
   ],
   "outputs": [],
   "execution_count": 84
  },
  {
   "attachments": {},
   "cell_type": "markdown",
   "metadata": {},
   "source": [
    "### 2.3 定义损失函数和优化器\n",
    "\n",
    "使用分类交叉熵损失和带动量的 SGD。"
   ]
  },
  {
   "cell_type": "code",
   "metadata": {
    "ExecuteTime": {
     "end_time": "2024-08-22T04:19:05.736415Z",
     "start_time": "2024-08-22T04:19:05.731443Z"
    }
   },
   "source": [
    "import torch.optim as optim\n",
    "\n",
    "criterion = nn.CrossEntropyLoss()\n",
    "optimizer = optim.SGD(params=net.parameters(), lr=0.001, momentum=0.9)"
   ],
   "outputs": [],
   "execution_count": 85
  },
  {
   "attachments": {},
   "cell_type": "markdown",
   "metadata": {},
   "source": [
    "### 2.4 训练网络\n",
    "\n",
    "只需在数据迭代器上循环，并将输入输入到网络中，然后进行优化。"
   ]
  },
  {
   "cell_type": "code",
   "metadata": {
    "ExecuteTime": {
     "end_time": "2024-08-22T04:19:13.720567Z",
     "start_time": "2024-08-22T04:19:06.890602Z"
    }
   },
   "source": [
    "# 测试，对 trainloader 进行迭代，返回值类别也是 list\n",
    "# 里面装着 2 个 tensor，分别是这一个 batch 的 images 和 labels\n",
    "for i in trainloader:\n",
    "    print(type(i))\n",
    "    print(len(i))\n",
    "    break"
   ],
   "outputs": [
    {
     "name": "stdout",
     "output_type": "stream",
     "text": [
      "<class 'list'>\n",
      "2\n"
     ]
    }
   ],
   "execution_count": 86
  },
  {
   "cell_type": "code",
   "metadata": {
    "ExecuteTime": {
     "end_time": "2024-08-22T04:20:08.513276Z",
     "start_time": "2024-08-22T04:19:13.720567Z"
    }
   },
   "source": [
    "for epoch in range(2):  # 设置在训练集上 loop 的总轮数\n",
    "    running_loss = 0.0\n",
    "    # enumerate() 用于为可迭代对象（如列表、元组、字符串等）提供索引。\n",
    "    # 第一个参数为要迭代的对象，第二个为起始索引(默认0)\n",
    "    for i, data in enumerate(trainloader, start=0):\n",
    "        # 枚举获取训练 inputs。data 的形式为 list [inputs, labels]\n",
    "        inputs, labels = data\n",
    "\n",
    "        # 清除参数梯度\n",
    "        optimizer.zero_grad()\n",
    "        # forward\n",
    "        outputs = net(inputs)\n",
    "        # loss\n",
    "        loss = criterion(outputs, labels)\n",
    "        # backward\n",
    "        loss.backward()\n",
    "        # update parameters\n",
    "        optimizer.step()\n",
    "\n",
    "        # 打印 status，便于观察训练状态\n",
    "        running_loss += loss.item()  # 使用 nn.CrossEntropyLoss() 定义的准则，返回值为一个 1 维 tensor，即 torch.tensor([loss])，需要用 .item() 获取具体数值\n",
    "        if i % 2000 == 1999:  # 每训练 2000 个 batch 打印一次\n",
    "            print(f\"[{epoch + 1}, {i + 1:5d}] loss: {running_loss / 2000 :.3f}\")  # 打印 [epoch, iter] 以及上 2000 次训练的平均 loss\n",
    "            running_loss = 0.0\n",
    "\n",
    "print(\"Finish Training\")"
   ],
   "outputs": [
    {
     "name": "stdout",
     "output_type": "stream",
     "text": [
      "[1,  2000] loss: 2.249\n",
      "[1,  4000] loss: 1.858\n",
      "[1,  6000] loss: 1.658\n",
      "[1,  8000] loss: 1.565\n",
      "[1, 10000] loss: 1.503\n",
      "[1, 12000] loss: 1.447\n",
      "[2,  2000] loss: 1.377\n",
      "[2,  4000] loss: 1.333\n",
      "[2,  6000] loss: 1.334\n",
      "[2,  8000] loss: 1.283\n",
      "[2, 10000] loss: 1.256\n",
      "[2, 12000] loss: 1.250\n",
      "Finish Training\n"
     ]
    }
   ],
   "execution_count": 87
  },
  {
   "attachments": {},
   "cell_type": "markdown",
   "metadata": {},
   "source": [
    "保存训练好的模型："
   ]
  },
  {
   "cell_type": "code",
   "metadata": {
    "ExecuteTime": {
     "end_time": "2024-08-22T04:20:19.125179Z",
     "start_time": "2024-08-22T04:20:19.105529Z"
    }
   },
   "source": [
    "PATH = \"./weights/cifar_net.pth\"\n",
    "torch.save(net.state_dict(), PATH)"
   ],
   "outputs": [],
   "execution_count": 88
  },
  {
   "cell_type": "code",
   "metadata": {
    "ExecuteTime": {
     "end_time": "2024-08-22T04:20:20.172322Z",
     "start_time": "2024-08-22T04:20:20.164509Z"
    }
   },
   "source": [
    "# net.state_dict() 中以 OrderedDict 字典形式存储模型参数\n",
    "# 例如，可以索引其中的具体 tensor\n",
    "net.state_dict()['conv1.weight']"
   ],
   "outputs": [
    {
     "data": {
      "text/plain": [
       "tensor([[[[-1.6891e-01, -2.2227e-01, -6.6516e-02, -1.1954e-01, -1.0225e-01],\n",
       "          [-1.0792e-01, -2.4442e-03, -7.6762e-02,  1.4488e-02, -5.2769e-02],\n",
       "          [-1.3405e-01,  1.2971e-01,  1.9437e-01,  1.0876e-01, -6.1907e-02],\n",
       "          [ 7.4051e-02,  3.0006e-01,  1.8518e-01,  9.6937e-02,  1.1893e-01],\n",
       "          [ 2.0160e-01,  2.6497e-01,  2.4161e-01,  2.3722e-01,  1.9191e-01]],\n",
       "\n",
       "         [[-4.9514e-02, -7.8204e-02, -4.7417e-02,  9.4664e-02,  3.6987e-02],\n",
       "          [-5.5425e-02,  3.1307e-02,  1.0434e-01,  6.7251e-02, -7.9187e-02],\n",
       "          [-5.3898e-02,  1.3479e-02,  1.0999e-01,  5.1274e-02,  3.4145e-02],\n",
       "          [-9.1312e-02,  8.1669e-02,  6.9080e-02, -1.3392e-02, -1.7529e-02],\n",
       "          [-5.4114e-03,  2.3324e-02,  3.8269e-02, -1.4138e-01, -1.5704e-01]],\n",
       "\n",
       "         [[ 1.0743e-02,  2.2735e-01,  2.0610e-01,  1.8951e-01,  1.0157e-01],\n",
       "          [-1.8156e-02,  7.2770e-02,  2.5025e-01,  1.5540e-01,  7.9515e-02],\n",
       "          [-4.1198e-02,  1.9861e-01,  1.3569e-01,  1.0535e-01, -2.0530e-03],\n",
       "          [-2.8216e-03,  1.9140e-02,  1.9662e-01,  2.2756e-02, -2.7928e-01],\n",
       "          [-7.5170e-02,  3.9941e-02,  3.3595e-02, -1.6746e-01, -1.9478e-01]]],\n",
       "\n",
       "\n",
       "        [[[-1.2174e-01, -2.3305e-01, -6.1074e-02, -2.4140e-01, -8.9280e-02],\n",
       "          [-1.4015e-01, -3.0982e-02, -1.7998e-01, -2.4958e-01, -2.7764e-01],\n",
       "          [-1.4136e-01, -3.3345e-02, -1.3668e-01, -1.9782e-01, -1.9309e-01],\n",
       "          [-2.3001e-01, -2.0517e-01, -3.1111e-01, -1.1448e-01, -3.1763e-01],\n",
       "          [-3.1944e-01, -3.0726e-01, -1.4381e-01, -2.6898e-01, -1.4077e-01]],\n",
       "\n",
       "         [[-6.9888e-02, -3.9596e-02, -1.6599e-01, -7.7541e-02, -1.6673e-01],\n",
       "          [-5.3460e-02,  1.4174e-01,  9.9916e-02,  1.4420e-01, -1.0300e-02],\n",
       "          [ 2.5628e-01,  1.4436e-02,  1.4682e-01,  1.0047e-01,  5.0988e-02],\n",
       "          [ 7.5558e-02,  8.0283e-02, -1.5803e-02, -8.1843e-02, -8.5680e-02],\n",
       "          [-4.6194e-03,  4.9686e-02,  5.0003e-02, -2.0284e-02,  5.5033e-04]],\n",
       "\n",
       "         [[ 1.4315e-01, -4.2973e-02, -1.1605e-01, -4.8113e-02, -8.7086e-02],\n",
       "          [ 2.3537e-01,  2.4138e-01,  3.1425e-01,  1.4114e-01,  8.6536e-02],\n",
       "          [ 4.0168e-01,  3.7763e-01,  4.0686e-01,  2.6944e-01,  2.1244e-01],\n",
       "          [ 1.7201e-01,  2.4778e-01,  1.1999e-01,  4.7834e-02,  1.2206e-01],\n",
       "          [ 2.2111e-01,  1.7615e-01,  7.1587e-02,  7.2679e-02,  1.2004e-01]]],\n",
       "\n",
       "\n",
       "        [[[-1.5565e-01,  9.0095e-02, -4.1105e-01,  5.0376e-02, -1.5276e-01],\n",
       "          [-7.0590e-02, -1.5986e-01, -3.1434e-01, -4.4993e-03, -1.8914e-01],\n",
       "          [-2.7281e-01, -2.0412e-01,  8.3236e-02, -7.7076e-04, -1.9965e-01],\n",
       "          [ 7.7238e-02,  1.7395e-01, -1.3775e-01, -3.5695e-01,  9.6321e-02],\n",
       "          [ 1.4975e-01, -3.6422e-03, -3.7983e-01, -1.3189e-01,  1.6989e-01]],\n",
       "\n",
       "         [[ 2.0047e-01,  1.5020e-01, -6.6336e-02,  2.6781e-01,  1.5698e-01],\n",
       "          [ 4.3070e-02,  2.6288e-01,  1.9846e-02,  3.4738e-01,  4.3932e-02],\n",
       "          [ 6.7118e-03,  1.6513e-01,  2.5319e-01,  3.1302e-01,  1.7298e-01],\n",
       "          [ 2.9989e-01,  5.3247e-01,  1.7068e-01,  8.8307e-02,  2.4026e-01],\n",
       "          [ 3.3469e-01,  3.1705e-01, -1.3780e-01,  1.7992e-02,  3.1989e-01]],\n",
       "\n",
       "         [[ 8.8997e-03,  9.3844e-03, -2.9837e-01, -3.2494e-02, -5.1026e-02],\n",
       "          [-1.0587e-01, -5.2118e-03, -3.5166e-02,  1.3057e-01, -1.7210e-01],\n",
       "          [-2.4421e-01,  2.7971e-03, -2.1935e-02, -4.7617e-02, -1.2305e-01],\n",
       "          [-7.6822e-02,  1.4226e-01, -1.5666e-01, -2.5371e-01, -7.1512e-02],\n",
       "          [-1.3478e-01, -6.9749e-02, -3.5377e-01, -1.0268e-01,  2.2906e-02]]],\n",
       "\n",
       "\n",
       "        [[[-7.2688e-02,  4.9168e-02,  6.6535e-02,  1.6151e-01,  1.5703e-01],\n",
       "          [-2.0414e-01, -4.8808e-01, -4.1040e-01, -3.0263e-01, -1.8584e-01],\n",
       "          [-6.8882e-02, -3.2856e-01, -3.4295e-01, -2.9744e-01, -2.5851e-03],\n",
       "          [ 3.7448e-01,  3.8362e-01,  2.5454e-01,  4.3734e-01,  1.3131e-01],\n",
       "          [ 2.4713e-01,  2.2892e-01,  1.8759e-01,  3.0389e-01,  1.4845e-01]],\n",
       "\n",
       "         [[-1.3103e-01,  1.3309e-01,  3.9311e-01,  3.7532e-01,  2.7409e-01],\n",
       "          [-1.3745e-01, -3.3380e-01, -2.6581e-01, -2.0471e-01, -1.0717e-01],\n",
       "          [-4.7093e-02, -2.3486e-01, -4.7776e-01, -4.4221e-01, -2.5714e-01],\n",
       "          [ 1.8675e-01,  2.4968e-01,  1.2554e-01,  9.0460e-03,  8.1315e-02],\n",
       "          [-1.0564e-01,  1.4662e-01,  1.3759e-01, -1.5768e-01, -1.9917e-01]],\n",
       "\n",
       "         [[ 1.5256e-01,  3.8289e-01,  4.3583e-01,  5.0753e-01,  2.8792e-01],\n",
       "          [ 2.0102e-02, -6.8947e-02, -1.1671e-01,  4.7896e-02, -1.9694e-02],\n",
       "          [-4.1578e-02, -1.4840e-01, -3.1578e-01, -2.1422e-01, -1.0993e-01],\n",
       "          [-4.1407e-02,  1.4389e-01,  2.9508e-01,  2.4962e-01,  2.3707e-02],\n",
       "          [-1.6533e-01, -7.5022e-02, -1.0949e-01, -5.0130e-02, -2.6009e-01]]],\n",
       "\n",
       "\n",
       "        [[[ 1.4837e-01,  1.4182e-01, -3.9107e-01, -1.6428e-01,  5.0137e-01],\n",
       "          [ 3.0837e-01,  2.8226e-01, -3.7413e-01, -4.4211e-01,  2.5776e-01],\n",
       "          [ 8.7715e-02,  8.7160e-02, -2.2917e-01, -2.2199e-01,  1.3254e-01],\n",
       "          [ 8.2472e-03,  7.5430e-02,  5.9952e-03, -1.6039e-01, -6.9401e-02],\n",
       "          [-1.2188e-01, -1.3793e-02, -9.6054e-02, -4.6875e-02,  6.4770e-02]],\n",
       "\n",
       "         [[ 2.0729e-01, -6.7194e-02, -6.2495e-01, -3.7440e-01,  2.9429e-01],\n",
       "          [ 4.2596e-01,  2.1311e-01, -6.1528e-01, -5.7533e-01,  2.6339e-01],\n",
       "          [ 2.9530e-01,  3.1301e-01, -3.3756e-01, -2.7756e-01,  1.5073e-01],\n",
       "          [ 1.0871e-01, -2.7827e-02,  1.9092e-02, -4.5269e-02,  1.0387e-01],\n",
       "          [ 2.6732e-03,  7.7201e-02, -6.2623e-03,  1.2041e-01,  1.0226e-01]],\n",
       "\n",
       "         [[ 2.5710e-01, -1.8127e-02, -5.3089e-01, -4.2677e-01,  2.7406e-01],\n",
       "          [ 4.1241e-01,  3.3775e-01, -3.7131e-01, -4.9785e-01,  2.2582e-01],\n",
       "          [ 3.3168e-01,  3.0802e-01, -3.3027e-01, -3.5795e-01,  4.9973e-02],\n",
       "          [ 7.5652e-02,  1.4362e-01, -5.1716e-02, -5.2032e-02, -8.4260e-02],\n",
       "          [ 6.9831e-02, -2.1744e-02,  6.4520e-02, -1.7430e-02,  1.7295e-02]]],\n",
       "\n",
       "\n",
       "        [[[ 4.6336e-01,  3.5254e-01,  9.6669e-02, -3.2836e-02,  2.2931e-01],\n",
       "          [ 1.8562e-01, -1.3433e-01, -2.4915e-01, -1.0908e-01,  2.0070e-01],\n",
       "          [-1.6018e-01, -3.4696e-01, -3.1900e-01, -5.9976e-02, -1.3475e-02],\n",
       "          [-2.9126e-01, -3.4022e-01, -8.9141e-02, -4.1949e-02, -1.2375e-01],\n",
       "          [-2.6419e-01, -1.5083e-01, -4.5813e-02, -6.9792e-02, -1.0641e-01]],\n",
       "\n",
       "         [[ 4.1081e-02, -6.2005e-02, -3.3656e-01, -4.9090e-01, -2.9835e-01],\n",
       "          [ 6.8077e-02, -3.6332e-01, -3.7123e-01, -2.1063e-01,  1.4515e-01],\n",
       "          [-1.7096e-01, -1.1536e-01, -1.2145e-01,  6.9428e-02,  2.3804e-01],\n",
       "          [ 5.1127e-02,  8.9763e-02,  1.3816e-02,  1.8044e-01,  8.0328e-02],\n",
       "          [ 1.1587e-01,  2.0510e-01,  1.5008e-01,  2.2172e-01,  2.2496e-01]],\n",
       "\n",
       "         [[ 6.4585e-02,  4.1111e-02, -1.6702e-01, -2.6991e-01,  3.7055e-02],\n",
       "          [ 3.0198e-02, -2.3916e-01, -2.6394e-01, -7.1717e-02,  2.6569e-01],\n",
       "          [-1.1642e-01, -2.6347e-01, -1.5302e-02,  6.3213e-02,  3.1028e-01],\n",
       "          [-1.2543e-01, -1.7337e-01, -1.8978e-02,  1.9815e-01,  8.0303e-02],\n",
       "          [ 1.2957e-01, -3.4405e-03,  1.7303e-01,  2.2543e-02,  1.3482e-01]]]])"
      ]
     },
     "execution_count": 89,
     "metadata": {},
     "output_type": "execute_result"
    }
   ],
   "execution_count": 89
  },
  {
   "attachments": {},
   "cell_type": "markdown",
   "metadata": {},
   "source": [
    "#### 2.5 测试网络训练效果\n",
    "\n",
    "我们在训练数据集上对网络进行了 2 次训练。但我们需要检查网络是否学到了东西。\n",
    "\n",
    "我们将通过预测神经网络输出的类别标签来检查这一点，并将其与 ground truth 进行核对。如果预测正确，我们就将样本添加到正确预测列表中。\n",
    "\n",
    "首先，让我们显示测试集中的一幅图像，熟悉一下。"
   ]
  },
  {
   "cell_type": "code",
   "metadata": {
    "ExecuteTime": {
     "end_time": "2024-08-22T04:21:08.695805Z",
     "start_time": "2024-08-22T04:21:03.309458Z"
    }
   },
   "source": [
    "dataiter = iter(testloader)\n",
    "images, labels = next(dataiter)\n",
    "\n",
    "# 打印图像\n",
    "imshow(torchvision.utils.make_grid(images))\n",
    "print(\"GroundTruth:\", \" \".join(f\"{classes[labels[j]]:5s}\" for j in range(4)))"
   ],
   "outputs": [
    {
     "data": {
      "text/plain": [
       "<Figure size 640x480 with 1 Axes>"
      ],
      "image/png": "[encoded data removed]"
     },
     "metadata": {},
     "output_type": "display_data"
    },
    {
     "name": "stdout",
     "output_type": "stream",
     "text": [
      "GroundTruth: cat   ship  ship  plane\n"
     ]
    }
   ],
   "execution_count": 94
  },
  {
   "attachments": {},
   "cell_type": "markdown",
   "metadata": {},
   "source": [
    "接下来，重新加载已保存的模型："
   ]
  },
  {
   "cell_type": "code",
   "metadata": {
    "ExecuteTime": {
     "end_time": "2024-08-22T04:21:12.409147Z",
     "start_time": "2024-08-22T04:21:12.395547Z"
    }
   },
   "source": [
    "net = Net()\n",
    "net.load_state_dict(torch.load(PATH))"
   ],
   "outputs": [
    {
     "name": "stderr",
     "output_type": "stream",
     "text": [
      "C:\\Users\\65197\\AppData\\Local\\Temp\\ipykernel_3472\\3657762129.py:2: FutureWarning: You are using `torch.load` with `weights_only=False` (the current default value), which uses the default pickle module implicitly. It is possible to construct malicious pickle data which will execute arbitrary code during unpickling (See https://github.com/pytorch/pytorch/blob/main/SECURITY.md#untrusted-models for more details). In a future release, the default value for `weights_only` will be flipped to `True`. This limits the functions that could be executed during unpickling. Arbitrary objects will no longer be allowed to be loaded via this mode unless they are explicitly allowlisted by the user via `torch.serialization.add_safe_globals`. We recommend you start setting `weights_only=True` for any use case where you don't have full control of the loaded file. Please open an issue on GitHub for any issues related to this experimental feature.\n",
      "  net.load_state_dict(torch.load(PATH))\n"
     ]
    },
    {
     "data": {
      "text/plain": [
       "<All keys matched successfully>"
      ]
     },
     "execution_count": 95,
     "metadata": {},
     "output_type": "execute_result"
    }
   ],
   "execution_count": 95
  },
  {
   "attachments": {},
   "cell_type": "markdown",
   "metadata": {},
   "source": [
    "现在让我们看看神经网络认为上面这些例子是什么："
   ]
  },
  {
   "cell_type": "code",
   "metadata": {
    "ExecuteTime": {
     "end_time": "2024-08-22T04:21:38.344525Z",
     "start_time": "2024-08-22T04:21:38.326051Z"
    }
   },
   "source": [
    "outputs = net(images)\n",
    "outputs"
   ],
   "outputs": [
    {
     "data": {
      "text/plain": [
       "tensor([[-0.7054, -2.5185,  0.3807,  3.1581,  1.3970,  2.4563,  0.5369, -0.9461,\n",
       "         -1.3609, -2.1283],\n",
       "        [ 4.9085,  7.4135, -1.3823, -3.5312, -2.8124, -3.1874, -4.0331, -4.8685,\n",
       "          6.5649,  3.3223],\n",
       "        [ 2.3018,  2.9113, -0.8363, -1.2821, -2.2285, -1.7152, -2.3546, -2.4124,\n",
       "          2.8247,  2.6798],\n",
       "        [ 3.5437, -0.1411,  0.4979, -0.8310, -0.2103, -2.0533, -1.8349, -1.5262,\n",
       "          2.7941,  0.2497]], grad_fn=<AddmmBackward0>)"
      ]
     },
     "execution_count": 96,
     "metadata": {},
     "output_type": "execute_result"
    }
   ],
   "execution_count": 96
  },
  {
   "attachments": {},
   "cell_type": "markdown",
   "metadata": {},
   "source": [
    "输出是 10 个类别的 energies。某个类别的 energies 越高，网络就越认为图像属于该类别。因此，我们来获取最高 energies 的 index："
   ]
  },
  {
   "cell_type": "code",
   "metadata": {
    "ExecuteTime": {
     "end_time": "2024-08-22T04:21:41.247618Z",
     "start_time": "2024-08-22T04:21:41.234980Z"
    }
   },
   "source": [
    "# torch.max() 接收 tensor 和 dim，求在 dim 维上的最大值\n",
    "# dim=1 表示在 1 维上求最大值，即最里面的数据维，一行 10 个里面求最大\n",
    "# 返回两个 tensor，分别为最大值和索引\n",
    "_, predicted = torch.max(outputs, 1)\n",
    "\n",
    "print(\"Predicted: \", \" \".join(f\"{classes[predicted[j]]:5s}\" for j in range(4)))"
   ],
   "outputs": [
    {
     "name": "stdout",
     "output_type": "stream",
     "text": [
      "Predicted:  cat   car   car   plane\n"
     ]
    }
   ],
   "execution_count": 97
  },
  {
   "cell_type": "markdown",
   "metadata": {},
   "source": [
    "让我们看看该网络在整个数据集上的表现。"
   ]
  },
  {
   "cell_type": "code",
   "metadata": {
    "ExecuteTime": {
     "end_time": "2024-08-22T04:21:50.185339Z",
     "start_time": "2024-08-22T04:21:42.972771Z"
    }
   },
   "source": [
    "correct = 0\n",
    "total = 0\n",
    "# 由于并不是在训练，因此不用计算 outputs 的梯度\n",
    "with torch.no_grad():\n",
    "    for data in testloader:\n",
    "        images, labels = data\n",
    "        # forward\n",
    "        outputs = net(images)\n",
    "        # 取最高的 energy 的 index 作为预测值\n",
    "        _, predicted = torch.max(outputs.data, 1)\n",
    "        # labels 的 size 是 (batchsize)\n",
    "        total += labels.size(0)\n",
    "        # 获取预测正确的 bool tensor，求和后取出 tensor 中的数字\n",
    "        correct += (predicted == labels).sum().item()\n",
    "\n",
    "print(f\"Accuracy of the network on the 10000 test images: {100 * correct // total}%\")"
   ],
   "outputs": [
    {
     "name": "stdout",
     "output_type": "stream",
     "text": [
      "Accuracy of the network on the 10000 test images: 56%\n"
     ]
    }
   ],
   "execution_count": 98
  },
  {
   "attachments": {},
   "cell_type": "markdown",
   "metadata": {},
   "source": [
    "该结果比纯随机性要好得多。纯随机的准确率是 10%（从 10 个类别中随机挑选一个类别）。\n",
    "\n",
    "观察哪些类别表现良好，哪些类别表现不佳："
   ]
  },
  {
   "cell_type": "code",
   "metadata": {
    "ExecuteTime": {
     "end_time": "2024-08-22T04:22:04.897748Z",
     "start_time": "2024-08-22T04:21:57.555951Z"
    }
   },
   "source": [
    "# 准备对每一个 class 进行预测和计数\n",
    "# 此处生成了两个 dict, key 为 classname，value 均为 0\n",
    "correct_pred = {classname: 0 for classname in classes}\n",
    "total_pred = {classname: 0 for classname in classes}\n",
    "\n",
    "# 不计算梯度\n",
    "with torch.no_grad():\n",
    "    for data in testloader:\n",
    "        images, labels = data\n",
    "        outputs = net(images)\n",
    "        _, predictions = torch.max(outputs, 1)\n",
    "        # 统计每个 class 中正确预测的情况\n",
    "        # zip函数可以将两个或更多的序列（列表、元组等）组合成一个序列，进行取用和迭代\n",
    "        # labels, predictions 里面存了 1 个 batch 的数据，将他们迭代出来\n",
    "        for label, prediction in zip(labels, predictions):\n",
    "            if label == prediction:\n",
    "                # correct_pred 字典中对应的 class 的 label +1\n",
    "                correct_pred[classes[label]] += 1\n",
    "            # 总数字典中对应的 class 的 label +1\n",
    "            total_pred[classes[label]] += 1\n",
    "\n",
    "# 打印每个 class 的 accuracy\n",
    "# correct_pred.items() 表示从字典 correct_pred 取出 key 和 value，赋给 classname, correct_count\n",
    "for classname, correct_count in correct_pred.items():\n",
    "    accuracy = 100 * float(correct_count) / total_pred[classname]\n",
    "    print(f\"Accuracy for class: {classname:5s} is {accuracy:.1f}%\")"
   ],
   "outputs": [
    {
     "name": "stdout",
     "output_type": "stream",
     "text": [
      "Accuracy for class: plane is 71.0%\n",
      "Accuracy for class: car   is 66.9%\n",
      "Accuracy for class: bird  is 29.6%\n",
      "Accuracy for class: cat   is 35.0%\n",
      "Accuracy for class: deer  is 44.6%\n",
      "Accuracy for class: dog   is 58.7%\n",
      "Accuracy for class: frog  is 60.5%\n",
      "Accuracy for class: horse is 63.0%\n",
      "Accuracy for class: ship  is 60.5%\n",
      "Accuracy for class: truck is 72.9%\n"
     ]
    }
   ],
   "execution_count": 99
  },
  {
   "metadata": {},
   "cell_type": "code",
   "outputs": [],
   "execution_count": null,
   "source": "# 神经网络原因或者是数据原因 多方面原因造成的 "
  }
 ],
 "metadata": {
  "kernelspec": {
   "display_name": "d2l",
   "language": "python",
   "name": "python3"
  },
  "language_info": {
   "codemirror_mode": {
    "name": "ipython",
    "version": 3
   },
   "file_extension": ".py",
   "mimetype": "text/x-python",
   "name": "python",
   "nbconvert_exporter": "python",
   "pygments_lexer": "ipython3",
   "version": "3.9.16"
  },
  "orig_nbformat": 4
 },
 "nbformat": 4,
 "nbformat_minor": 2
}
