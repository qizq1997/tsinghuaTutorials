{
 "cells": [
  {
   "cell_type": "markdown",
   "id": "a579c52e",
   "metadata": {},
   "source": [
    "# Demo\n",
    "这是一个利用机器学习和深度学习深度学习方法，通过混凝土梁的基本参数预测其剪切承载力的demo笔记"
   ]
  },
  {
   "cell_type": "code",
   "id": "54eada3f",
   "metadata": {
    "ExecuteTime": {
     "end_time": "2024-08-23T03:56:16.617926Z",
     "start_time": "2024-08-23T03:56:16.597194Z"
    }
   },
   "source": [
    "# 导入主要的包\n",
    "# pytorch相关\n",
    "import torch\n",
    "import torch.nn as nn\n",
    "from torch.utils.data import TensorDataset, DataLoader\n",
    "# TensorDataset和DataLoader是pytorch定义的一种数据集类，可以比较方便地处理数据\n",
    "\n",
    "# 辅助包，其中os（文件读取）,math（数学运算）,random（随机数）,sklearn（机器学习相关）一般由python自带\n",
    "# pandas, matplotlib可通过pip或conda安装\n",
    "# pip 安装（请在anaconda prompt shell里运行）：\n",
    "# pip install pandas\n",
    "# pip install matplotlib\n",
    "# conda 安装（请在anaconda prompt shell里运行）：\n",
    "# conda install pandas\n",
    "# conda install matplotlib\n",
    "import os\n",
    "import math\n",
    "import random\n",
    "import pandas as pd\n",
    "import matplotlib.pyplot as plt\n",
    "import numpy as np\n",
    "from sklearn.model_selection import train_test_split\n",
    "from sklearn.preprocessing import StandardScaler\n",
    "from sklearn.svm import SVR                             # 支持向量机SVM方法\n",
    "from sklearn.metrics import r2_score\n",
    "\n",
    "# 如果有gpu，优先加载到gpu上进行训练\n",
    "device = torch.device('cpu')"
   ],
   "outputs": [],
   "execution_count": 82
  },
  {
   "cell_type": "code",
   "id": "eccc59d4",
   "metadata": {
    "ExecuteTime": {
     "end_time": "2024-08-23T03:24:47.802789Z",
     "start_time": "2024-08-23T03:24:47.779264Z"
    }
   },
   "source": [
    "# 数据前处理和后处理\n",
    "def data_preprocess(input_data, ref):\n",
    "    \"\"\"\n",
    "    在这里定义对数据进行预处理的函数\n",
    "    简化为除以ref的形式，也可以采用更复杂的方式\n",
    "    参数:\n",
    "        input_data(nn.Tensor)\n",
    "    输出:\n",
    "        output_data(nn.Tensor)\n",
    "    \"\"\"\n",
    "    output_data = input_data / ref\n",
    "    return output_data\n",
    "\n",
    "def data_postprocess(input_data, ref):\n",
    "    \"\"\"\n",
    "    在这里定义对数据进行后处理的函数，即还原到原始数据的分布\n",
    "    参数:\n",
    "        input_data(nn.Tensor)\n",
    "    输出:\n",
    "        output_data(nn.Tensor)\n",
    "    \"\"\"\n",
    "    output_data = input_data * ref\n",
    "    return output_data\n",
    "\n",
    "# 构建数据集, 数据集是一批混凝土剪切梁的基本信息和剪切承载力，保存为csv格式\n",
    "# csv文件里的每行是一条数据，其中前11列是梁的静态特征参数（参见讲义），最后1列是需要预测的剪切承载力\n",
    "# 共774条数据，第一次试验时建议不要修改以下参数，跑通模型后再自己尝试调整\n",
    "\"\"\"\n",
    "主要参数说明\n",
    "DATA_SIZE: 总数据量，最大为774\n",
    "TRAIN_SIZE: 训练集数据量，不超过总数据量\n",
    "TEST_SIZE: 测试集数据量，除了训练数据以外的数据\n",
    "SRC_SIZE: 输入特征维度，考虑11个特征参数因此取11，有兴趣的读者也可以研究取其中一部分参数的影响\n",
    "TGT_SIZE: 输出特征维度，只预测剪切承载力数值，因此取1\n",
    "input_ref: 输入特征的归一化参考值\n",
    "output_ref: 输出特征的归一化参考值\n",
    "data_path: csv数据存放路径，默认为脚本同一目录下的r'data/beam_data.csv'，为无箍筋梁的数据文件\n",
    "注意BATCH_SIZE和SEQ_LEN一般受到显存的限制，需要根据配置调整\n",
    "\"\"\"\n",
    "DATA_SIZE = 640\n",
    "TRAIN_SIZE = 608 \n",
    "TEST_SIZE = DATA_SIZE - TRAIN_SIZE\n",
    "SRC_SIZE = 9\n",
    "TGT_SIZE = 1\n",
    "\n",
    "# 输入特征的参考值，这里根据数据取每个特征维度的较大值\n",
    "src_ref = torch.tensor([1000.0, 1000.0, 1000.0, 3.0, 10000, 50, 3.5, 400.0, 1000.0])\n",
    "tgt_ref = 500.0\n",
    "data_path = r'data/beam_data.csv' # 无箍筋梁的数据文件\n",
    "\n",
    "def read_data(data_path=data_path):\n",
    "    \"\"\"\n",
    "    请在这里定义一个函数，读取CSV文件中DATA_SIZE行的数据并转化为张量\n",
    "    其中输入特征存储到srcs中，输出特征存储到tgts中\n",
    "    参数：\n",
    "        data_path(str):csv文件的存放路径，默认为“data/beam_data1”\n",
    "    输出：\n",
    "        srcs(nn.Tensor):输入特征张量，要求形状为(DATA_SIZE, SRC_SIZE)\n",
    "        tgts(nn.Tensor):输出特征张量，即剪切承载力，要求形状为(DATA_SIZE, TGT_SIZE)\n",
    "    提示：\n",
    "        使用pandas的模块读取csv文件的数据为numpy的array，注意去除\n",
    "        再将array转化为tensor\n",
    "    \"\"\"\n",
    "    # 读取CSV文件，忽略第一行表头，保存为pandas的data_frame格式\n",
    "    df = pd.read_csv(data_path, header=None, skiprows=1)\n",
    "    \n",
    "    # 请修改问号为合适的值\n",
    "    ##### your code here #####\n",
    "    src_array = df.iloc[:, 0:8]\n",
    "    tgt_array = df.iloc[:, [9]]\n",
    "    \n",
    "    # 转化为张量, 数据格式为torch.float32\n",
    "    return src_array, tgt_array"
   ],
   "outputs": [],
   "execution_count": 59
  },
  {
   "cell_type": "code",
   "id": "43b0c4b2",
   "metadata": {
    "ExecuteTime": {
     "end_time": "2024-08-23T03:24:48.246864Z",
     "start_time": "2024-08-23T03:24:48.218157Z"
    }
   },
   "source": [
    "# 读取数据分别为numpy的array格式（机器学习）和pytorch的tensor格式（深度学习）\n",
    "src_array, tgt_array = read_data(data_path)    \n",
    "srcs, tgts = torch.tensor(src_array.values, dtype=torch.float32), torch.tensor(tgt_array.values, dtype=torch.float32)\n",
    "\n",
    "# 数据预处理，做简单的归一化\n",
    "srcs = (srcs - srcs.min()) / (srcs.max() - srcs.min())\n",
    "tgts = (tgts - tgts.min()) / (tgts.max() - tgts.min())\n",
    "\n",
    "# 检查读取数据的size，如果前后一致表明读取正确\n",
    "print(f\"srcs的shape: {srcs.shape}, 期望的shape: [{DATA_SIZE}, {SRC_SIZE}]\")\n",
    "print(f\"tgts的shape: {tgts.shape}, 期望的shape: [{DATA_SIZE}, {TGT_SIZE}]\")"
   ],
   "outputs": [
    {
     "name": "stdout",
     "output_type": "stream",
     "text": [
      "srcs的shape: torch.Size([640, 8]), 期望的shape: [640, 9]\n",
      "tgts的shape: torch.Size([640, 1]), 期望的shape: [640, 1]\n"
     ]
    }
   ],
   "execution_count": 60
  },
  {
   "cell_type": "code",
   "id": "28f1ea33",
   "metadata": {
    "ExecuteTime": {
     "end_time": "2024-08-23T03:24:48.671272Z",
     "start_time": "2024-08-23T03:24:48.660402Z"
    }
   },
   "source": [
    "########### 以下利用机器学习方法预测 ############\n",
    "# scikit-learn预期的预测值是一维数组，因此要做转化\n",
    "tgt_array = np.ravel(tgt_array)\n",
    "\n",
    "# 随机划分训练集和测试集\n",
    "X_train, X_test, Y_train, Y_test = train_test_split(src_array, tgt_array, test_size=0.1, random_state=42)\n",
    "\n",
    "# 数据标准化\n",
    "scaler = StandardScaler()\n",
    "X_train = scaler.fit_transform(X_train)\n",
    "X_test = scaler.transform(X_test)"
   ],
   "outputs": [],
   "execution_count": 61
  },
  {
   "metadata": {
    "ExecuteTime": {
     "end_time": "2024-08-23T03:24:49.080594Z",
     "start_time": "2024-08-23T03:24:49.060612Z"
    }
   },
   "cell_type": "code",
   "source": [
    "from sklearn.metrics import accuracy_score\n",
    "from sklearn.svm import SVC\n",
    "# 采用SVM方法，其中kernel可选择线性核 (linear)，多项式核 (poly)，径向基函数核 (rbf)，Sigmoid 核 (sigmoid)等\n",
    "svm_model = SVR(kernel='linear', gamma='scale', coef0=0)\n",
    "\n",
    "# 请查阅doc,拟合机器学习模型并在测试集上获得结果\n",
    "##### your code here #####\n",
    "svm_model.fit(X_train, Y_train)\n",
    "Y_pred_svm = svm_model.predict(X_test)"
   ],
   "id": "a95a6cf220feb514",
   "outputs": [],
   "execution_count": 62
  },
  {
   "metadata": {
    "ExecuteTime": {
     "end_time": "2024-08-23T03:24:49.555054Z",
     "start_time": "2024-08-23T03:24:49.539443Z"
    }
   },
   "cell_type": "code",
   "source": "len(X_train)",
   "id": "3739e175f79fd836",
   "outputs": [
    {
     "data": {
      "text/plain": [
       "576"
      ]
     },
     "execution_count": 63,
     "metadata": {},
     "output_type": "execute_result"
    }
   ],
   "execution_count": 63
  },
  {
   "cell_type": "code",
   "id": "82c9ba03",
   "metadata": {
    "ExecuteTime": {
     "end_time": "2024-08-23T03:24:50.065329Z",
     "start_time": "2024-08-23T03:24:49.940299Z"
    }
   },
   "source": [
    "# 评估SVM方法的结果\n",
    "r2_svm = r2_score(Y_test, Y_pred_svm)\n",
    "print(\"SVM R2 Score:\", r2_svm)\n",
    "\n",
    "# 绘图\n",
    "plt.figure(figsize=(8, 8)) \n",
    "      \n",
    "# 将预测值pt作为x轴，目标值tgt作为y轴，绘制散点图，散点越接近y=x直线表明结果越准确\n",
    "plt.scatter(Y_pred_svm, Y_test, color='red')\n",
    "    \n",
    "# 绘制y=x直线作为参考\n",
    "plt.plot(Y_test, Y_test, color='black', linestyle='dashed')\n",
    "plt.xlabel('SVM prediction values')\n",
    "plt.ylabel('target values')\n",
    "plt.show()"
   ],
   "outputs": [
    {
     "name": "stdout",
     "output_type": "stream",
     "text": [
      "SVM R2 Score: 0.28239515065316756\n"
     ]
    },
    {
     "data": {
      "text/plain": [
       "<Figure size 800x800 with 1 Axes>"
      ],
      "image/png": "[encoded data removed]"
     },
     "metadata": {},
     "output_type": "display_data"
    }
   ],
   "execution_count": 64
  },
  {
   "metadata": {
    "ExecuteTime": {
     "end_time": "2024-08-23T03:24:50.356401Z",
     "start_time": "2024-08-23T03:24:50.342342Z"
    }
   },
   "cell_type": "code",
   "source": "len(Y_train)",
   "id": "1ab37352d933b274",
   "outputs": [
    {
     "data": {
      "text/plain": [
       "576"
      ]
     },
     "execution_count": 65,
     "metadata": {},
     "output_type": "execute_result"
    }
   ],
   "execution_count": 65
  },
  {
   "cell_type": "code",
   "id": "b417c4ac",
   "metadata": {
    "ExecuteTime": {
     "end_time": "2024-08-23T04:11:05.267062Z",
     "start_time": "2024-08-23T04:11:05.253747Z"
    }
   },
   "source": [
    "########### 以下利用深度神经网络预测 ############\n",
    "# 划分数据，训练集每64个一组，测试集分为两组\n",
    "TRAIN_BATCH_SIZE = 64\n",
    "\n",
    "\n",
    "# 利用random.shuffle打乱数据以保证随机性\n",
    "indices = torch.randperm(len(srcs))\n",
    "srcs, tgts = srcs[indices], tgts[indices]\n",
    "\n",
    "# 划分训练集和测试集\n",
    "src_train_data, src_test_data = srcs[:TRAIN_SIZE], srcs[-TEST_SIZE:]\n",
    "tgt_train_data,  tgt_test_data = tgts[:TRAIN_SIZE], tgts[-TEST_SIZE:]\n",
    "train_data = TensorDataset(src_train_data, tgt_train_data)\n",
    "test_data = TensorDataset(src_test_data, tgt_test_data)\n",
    "TEST_BATCH_SIZE = len(test_data)\n",
    "\n",
    "# 请查询DataLoader的使用方法，用于分批加载数据\n",
    "# 一般而言，总数据量远超计算内存，因此需要分批加载进行训练，也有助于梯度下降\n",
    "##### your code here ##### \n",
    "train_loader = torch.utils.data.DataLoader(\n",
    "    train_data, batch_size=TRAIN_BATCH_SIZE, shuffle=True, num_workers=2\n",
    ")\n",
    "test_loader = torch.utils.data.DataLoader(\n",
    "    test_data, batch_size=TEST_BATCH_SIZE, shuffle=False, num_workers=2\n",
    ")\n",
    "print(f\"训练数据集批次: {len(train_loader)}，每批数据量 {TRAIN_BATCH_SIZE}\")\n",
    "print(f\"测试数据集批次: {len(test_loader)}，每批数据量 {TEST_BATCH_SIZE}\")"
   ],
   "outputs": [
    {
     "name": "stdout",
     "output_type": "stream",
     "text": [
      "训练数据集批次: 10，每批数据量 64\n",
      "测试数据集批次: 1，每批数据量 32\n"
     ]
    }
   ],
   "execution_count": 104
  },
  {
   "cell_type": "code",
   "id": "58fc1404",
   "metadata": {
    "ExecuteTime": {
     "end_time": "2024-08-23T04:11:10.542995Z",
     "start_time": "2024-08-23T04:11:10.532965Z"
    }
   },
   "source": [
    "# 神经网络模型实现\n",
    "class beamNN(nn.Module):\n",
    "    def __init__(self, input_size, hidden_size=64, output_size=1, activation=nn.ReLU()):\n",
    "        \"\"\"\n",
    "        在这里初始化模型，结构为线性层+激活函数\n",
    "        参数：\n",
    "            src_size(int):输入特征维度\n",
    "            hidden_size(int):模型的隐层维度\n",
    "            tgt_size(int):输出特征维度\n",
    "            num_layers(int):模型的线性层数，可取3~5\n",
    "            dropout(int):dropout模块,用于防止过拟合，一般取0~0.1\n",
    "            activation(nn.Module):激活函数，默认选择nn.ReLU()即可\n",
    "        提示：\n",
    "            可调用pytorch的nn.Linear模块搭建线性层\n",
    "        \"\"\"\n",
    "        super().__init__()\n",
    "        # 定义第一层（从输入层到隐藏层）\n",
    "        self.fc1 = nn.Linear(input_size, hidden_size)\n",
    "        # 定义第二层（从隐藏层到输出层）\n",
    "        self.fc2 = nn.Linear(hidden_size, hidden_size)\n",
    "        self.fc3 = nn.Linear(hidden_size, output_size)\n",
    "        ##### your code here #####\n",
    "        \n",
    " \n",
    "    def forward(self, src):\n",
    "        \"\"\"\n",
    "        在这里定义模型的forward函数\n",
    "        参数：\n",
    "            src(torch.Tensor):分批次的输入张量，初始形状需为[batch_size, src_size]，其中\n",
    "            batch_size:输入每个batch的size\n",
    "            src_size:输入特征维度\n",
    "        输出：\n",
    "            output(torch.Tensor):形状应为[batch_size, tgt_size]\n",
    "        \"\"\"\n",
    "        ##### your code here #####\n",
    "        x = torch.relu(self.fc1(src))\n",
    "        x = torch.relu(self.fc2(x))\n",
    "        # 应用第二层\n",
    "        x = self.fc3(x)\n",
    "        return x"
   ],
   "outputs": [],
   "execution_count": 105
  },
  {
   "cell_type": "code",
   "id": "10b7fca8",
   "metadata": {
    "ExecuteTime": {
     "end_time": "2024-08-23T04:11:11.716732Z",
     "start_time": "2024-08-23T04:11:11.700345Z"
    }
   },
   "source": [
    "# 定义训练函数\n",
    "def train(model, data_loader, num_epochs, num_log):\n",
    "    \"\"\"\n",
    "    在这里定义一个训练模块函数\n",
    "    参数：\n",
    "        model(nn.Module):模型\n",
    "        data_loader(DataLoader):用于加载训练数据的loader\n",
    "        optimizer:训练的优化器\n",
    "        lr_scheduler: 训练learning rate的调整器\n",
    "        criterion:计算loss的损失函数\n",
    "        num_epochs:训练的轮次（所有数据训练一遍作为一轮）\n",
    "        num_log: 每隔num_log个batch输出当前的训练loss\n",
    "    输出：\n",
    "        train_loss(list[float]):记录每个step的训练loss的列表\n",
    "    提示：\n",
    "        对轮次进行循环，每个轮次对数据批次进行循环\n",
    "    \"\"\"\n",
    "    model.train()\n",
    "    train_loss = []\n",
    "    \n",
    "    import torch.optim as optim\n",
    "    from torch.optim.lr_scheduler import StepLR\n",
    "    \n",
    "    criterion = nn.MSELoss()\n",
    "    optimizer = optim.Adam(model.parameters(), lr=0.001)\n",
    "    lr_scheduler = StepLR(optimizer, step_size=500, gamma=0.5)\n",
    "    for epoch in range(num_epochs):\n",
    "        for batch_idx, (src, tgt) in enumerate(data_loader):\n",
    "            # 加载数据，src作为src, tgt作为tgt\n",
    "            # 这里.to(device)主要适用于如果有gpu计算的情况，需要放到gpu上\n",
    "            src, tgt = src.to(device), tgt.to(device) \n",
    "            #prediction = ?\n",
    "            \n",
    "            # 计算loss并反向传播梯度\n",
    "            #loss = ?\n",
    "            ##### your code here #####\n",
    "            #train_loss.append(loss.item())\n",
    "            \n",
    "            optimizer.zero_grad()\n",
    "            outputs = model(src)\n",
    "            loss = criterion(outputs, tgt)\n",
    "            loss.backward()\n",
    "            train_loss.append(loss.item())\n",
    "            optimizer.step()\n",
    "            lr_scheduler.step()\n",
    "            \n",
    "            # 输出当前训练状态\n",
    "            if len(train_loss) % num_log == 0:\n",
    "                print(f'[Epoch: {epoch + 1}] [Batch idx: {batch_idx + 1}] train loss: {loss.item():.4f}' )\n",
    "    return train_loss"
   ],
   "outputs": [],
   "execution_count": 106
  },
  {
   "cell_type": "code",
   "id": "3a75f80f",
   "metadata": {
    "ExecuteTime": {
     "end_time": "2024-08-23T03:24:52.570612Z",
     "start_time": "2024-08-23T03:24:52.548719Z"
    }
   },
   "source": [
    "#HIDDEN_SIZE = ?\n",
    "#NUM_LAYERS = ?\n",
    "DROP_OUT = 0.05\n",
    "\n",
    "# 模型的保存路径\n",
    "SAVE_NAME = 'beamnn_params.pt'\n",
    "\n",
    "# 初始化训练参数，可以根据训练效果调整\n",
    "NUM_EPOCHS = 100                # 迭代次数，建议100次以上\n",
    "TOTAL_STEPS = TRAIN_SIZE // TRAIN_BATCH_SIZE * NUM_EPOCHS\n",
    "STEP_SIZE = TOTAL_STEPS // 4\n",
    "LR = 0.001                       # 初始学习率，建议0.0001~0.001\n",
    "\n",
    "# 初始化model和optimizer\n",
    "# 选择MSELoss作为criterion(其他度量也可)\n",
    "# 选择nn.ReLU()作为激活函数\n",
    "# 选择lr_scheduler.StepLR作为lr_scheduler，设置step_size=STEP_SIZE\n",
    "# 如果有gpu，注意放到gpu上进行计算\n",
    "##### your code here #####\n",
    "#activation = ?\n",
    "model = beamNN(8)\n",
    "##### 如果有gpu，注意放到gpu上进行计算 #####\n",
    "model.to(device)\n",
    "#optimizer = ?\n",
    "#criterion = ?\n",
    "#lr_scheduler = ?\n",
    "\n",
    "# 输出\n",
    "NUM_LOG = TOTAL_STEPS // 20\n",
    "print(f\"总训练轮次: {NUM_EPOCHS}, 总训练步数: {TRAIN_SIZE//TRAIN_BATCH_SIZE * NUM_EPOCHS}\")\n",
    "print(f\"学习率每{STEP_SIZE}步进行调整, 每{NUM_LOG}步输出当前loss\")"
   ],
   "outputs": [
    {
     "name": "stdout",
     "output_type": "stream",
     "text": [
      "总训练轮次: 100, 总训练步数: 900\n",
      "学习率每225步进行调整, 每45步输出当前loss\n"
     ]
    }
   ],
   "execution_count": 69
  },
  {
   "metadata": {
    "ExecuteTime": {
     "end_time": "2024-08-23T03:55:23.996142Z",
     "start_time": "2024-08-23T03:55:23.980009Z"
    }
   },
   "cell_type": "code",
   "source": "",
   "id": "e7bd489da8a63d54",
   "outputs": [
    {
     "data": {
      "text/plain": [
       "device(type='cuda', index=0)"
      ]
     },
     "execution_count": 81,
     "metadata": {},
     "output_type": "execute_result"
    }
   ],
   "execution_count": 81
  },
  {
   "cell_type": "code",
   "id": "2669c5cc",
   "metadata": {
    "ExecuteTime": {
     "end_time": "2024-08-23T03:30:08.945484Z",
     "start_time": "2024-08-23T03:24:53.307974Z"
    }
   },
   "source": [
    "# 进行训练并保存结果\n",
    "# 根据配置和训练参数，训练需要1-15分钟，若时间过长可调大batch_size,减小epochs\n",
    "train_loss = train(model,train_loader,NUM_EPOCHS,10)\n",
    "torch.save(model.state_dict( ), SAVE_NAME)"
   ],
   "outputs": [
    {
     "name": "stdout",
     "output_type": "stream",
     "text": [
      "[Epoch: 1] [Batch idx: 10] train loss: 0.0220\n",
      "[Epoch: 2] [Batch idx: 10] train loss: 0.0312\n",
      "[Epoch: 3] [Batch idx: 10] train loss: 0.0041\n",
      "[Epoch: 4] [Batch idx: 10] train loss: 0.0066\n",
      "[Epoch: 5] [Batch idx: 10] train loss: 0.0097\n",
      "[Epoch: 6] [Batch idx: 10] train loss: 0.0073\n",
      "[Epoch: 7] [Batch idx: 10] train loss: 0.0054\n",
      "[Epoch: 8] [Batch idx: 10] train loss: 0.0057\n",
      "[Epoch: 9] [Batch idx: 10] train loss: 0.0083\n",
      "[Epoch: 10] [Batch idx: 10] train loss: 0.0104\n",
      "[Epoch: 11] [Batch idx: 10] train loss: 0.0211\n",
      "[Epoch: 12] [Batch idx: 10] train loss: 0.0089\n",
      "[Epoch: 13] [Batch idx: 10] train loss: 0.0037\n",
      "[Epoch: 14] [Batch idx: 10] train loss: 0.0175\n",
      "[Epoch: 15] [Batch idx: 10] train loss: 0.0034\n",
      "[Epoch: 16] [Batch idx: 10] train loss: 0.0252\n",
      "[Epoch: 17] [Batch idx: 10] train loss: 0.0092\n",
      "[Epoch: 18] [Batch idx: 10] train loss: 0.0066\n",
      "[Epoch: 19] [Batch idx: 10] train loss: 0.0037\n",
      "[Epoch: 20] [Batch idx: 10] train loss: 0.0059\n",
      "[Epoch: 21] [Batch idx: 10] train loss: 0.0052\n",
      "[Epoch: 22] [Batch idx: 10] train loss: 0.0051\n",
      "[Epoch: 23] [Batch idx: 10] train loss: 0.0048\n",
      "[Epoch: 24] [Batch idx: 10] train loss: 0.0076\n",
      "[Epoch: 25] [Batch idx: 10] train loss: 0.0429\n",
      "[Epoch: 26] [Batch idx: 10] train loss: 0.0137\n",
      "[Epoch: 27] [Batch idx: 10] train loss: 0.0085\n",
      "[Epoch: 28] [Batch idx: 10] train loss: 0.0072\n",
      "[Epoch: 29] [Batch idx: 10] train loss: 0.0166\n",
      "[Epoch: 30] [Batch idx: 10] train loss: 0.0180\n",
      "[Epoch: 31] [Batch idx: 10] train loss: 0.0028\n",
      "[Epoch: 32] [Batch idx: 10] train loss: 0.0038\n",
      "[Epoch: 33] [Batch idx: 10] train loss: 0.0062\n",
      "[Epoch: 34] [Batch idx: 10] train loss: 0.0043\n",
      "[Epoch: 35] [Batch idx: 10] train loss: 0.0027\n",
      "[Epoch: 36] [Batch idx: 10] train loss: 0.0030\n",
      "[Epoch: 37] [Batch idx: 10] train loss: 0.0044\n",
      "[Epoch: 38] [Batch idx: 10] train loss: 0.0014\n",
      "[Epoch: 39] [Batch idx: 10] train loss: 0.0063\n",
      "[Epoch: 40] [Batch idx: 10] train loss: 0.0112\n",
      "[Epoch: 41] [Batch idx: 10] train loss: 0.0028\n",
      "[Epoch: 42] [Batch idx: 10] train loss: 0.0052\n",
      "[Epoch: 43] [Batch idx: 10] train loss: 0.0013\n",
      "[Epoch: 44] [Batch idx: 10] train loss: 0.0021\n",
      "[Epoch: 45] [Batch idx: 10] train loss: 0.0037\n",
      "[Epoch: 46] [Batch idx: 10] train loss: 0.0021\n",
      "[Epoch: 47] [Batch idx: 10] train loss: 0.0038\n",
      "[Epoch: 48] [Batch idx: 10] train loss: 0.0063\n",
      "[Epoch: 49] [Batch idx: 10] train loss: 0.0025\n",
      "[Epoch: 50] [Batch idx: 10] train loss: 0.0011\n",
      "[Epoch: 51] [Batch idx: 10] train loss: 0.0029\n",
      "[Epoch: 52] [Batch idx: 10] train loss: 0.0048\n",
      "[Epoch: 53] [Batch idx: 10] train loss: 0.0011\n",
      "[Epoch: 54] [Batch idx: 10] train loss: 0.0040\n",
      "[Epoch: 55] [Batch idx: 10] train loss: 0.0015\n",
      "[Epoch: 56] [Batch idx: 10] train loss: 0.0037\n",
      "[Epoch: 57] [Batch idx: 10] train loss: 0.0018\n",
      "[Epoch: 58] [Batch idx: 10] train loss: 0.0031\n",
      "[Epoch: 59] [Batch idx: 10] train loss: 0.0095\n",
      "[Epoch: 60] [Batch idx: 10] train loss: 0.0042\n",
      "[Epoch: 61] [Batch idx: 10] train loss: 0.0013\n",
      "[Epoch: 62] [Batch idx: 10] train loss: 0.0029\n",
      "[Epoch: 63] [Batch idx: 10] train loss: 0.0014\n",
      "[Epoch: 64] [Batch idx: 10] train loss: 0.0046\n",
      "[Epoch: 65] [Batch idx: 10] train loss: 0.0012\n",
      "[Epoch: 66] [Batch idx: 10] train loss: 0.0037\n",
      "[Epoch: 67] [Batch idx: 10] train loss: 0.0020\n",
      "[Epoch: 68] [Batch idx: 10] train loss: 0.0019\n",
      "[Epoch: 69] [Batch idx: 10] train loss: 0.0022\n",
      "[Epoch: 70] [Batch idx: 10] train loss: 0.0048\n",
      "[Epoch: 71] [Batch idx: 10] train loss: 0.0026\n",
      "[Epoch: 72] [Batch idx: 10] train loss: 0.0037\n",
      "[Epoch: 73] [Batch idx: 10] train loss: 0.0046\n",
      "[Epoch: 74] [Batch idx: 10] train loss: 0.0038\n",
      "[Epoch: 75] [Batch idx: 10] train loss: 0.0034\n",
      "[Epoch: 76] [Batch idx: 10] train loss: 0.0010\n",
      "[Epoch: 77] [Batch idx: 10] train loss: 0.0017\n",
      "[Epoch: 78] [Batch idx: 10] train loss: 0.0033\n",
      "[Epoch: 79] [Batch idx: 10] train loss: 0.0027\n",
      "[Epoch: 80] [Batch idx: 10] train loss: 0.0044\n",
      "[Epoch: 81] [Batch idx: 10] train loss: 0.0015\n",
      "[Epoch: 82] [Batch idx: 10] train loss: 0.0024\n",
      "[Epoch: 83] [Batch idx: 10] train loss: 0.0018\n",
      "[Epoch: 84] [Batch idx: 10] train loss: 0.0032\n",
      "[Epoch: 85] [Batch idx: 10] train loss: 0.0019\n",
      "[Epoch: 86] [Batch idx: 10] train loss: 0.0019\n",
      "[Epoch: 87] [Batch idx: 10] train loss: 0.0027\n",
      "[Epoch: 88] [Batch idx: 10] train loss: 0.0034\n",
      "[Epoch: 89] [Batch idx: 10] train loss: 0.0043\n",
      "[Epoch: 90] [Batch idx: 10] train loss: 0.0038\n",
      "[Epoch: 91] [Batch idx: 10] train loss: 0.0026\n",
      "[Epoch: 92] [Batch idx: 10] train loss: 0.0020\n",
      "[Epoch: 93] [Batch idx: 10] train loss: 0.0038\n",
      "[Epoch: 94] [Batch idx: 10] train loss: 0.0016\n",
      "[Epoch: 95] [Batch idx: 10] train loss: 0.0021\n",
      "[Epoch: 96] [Batch idx: 10] train loss: 0.0032\n",
      "[Epoch: 97] [Batch idx: 10] train loss: 0.0034\n",
      "[Epoch: 98] [Batch idx: 10] train loss: 0.0024\n",
      "[Epoch: 99] [Batch idx: 10] train loss: 0.0031\n",
      "[Epoch: 100] [Batch idx: 10] train loss: 0.0011\n"
     ]
    }
   ],
   "execution_count": 70
  },
  {
   "cell_type": "code",
   "id": "89f6e11b",
   "metadata": {
    "ExecuteTime": {
     "end_time": "2024-08-23T03:30:09.051889Z",
     "start_time": "2024-08-23T03:30:08.946489Z"
    }
   },
   "source": [
    "# 绘制训练过程的loss变化情况，一般是迅速下降-缓慢下降-收敛的曲线\n",
    "plt.plot(train_loss)\n",
    "plt.xlabel('train batch')\n",
    "plt.ylabel('train loss')\n",
    "plt.show()"
   ],
   "outputs": [
    {
     "data": {
      "text/plain": [
       "<Figure size 640x480 with 1 Axes>"
      ],
      "image/png": "[encoded data removed]"
     },
     "metadata": {},
     "output_type": "display_data"
    }
   ],
   "execution_count": 71
  },
  {
   "cell_type": "code",
   "id": "8735586f",
   "metadata": {
    "ExecuteTime": {
     "end_time": "2024-08-23T04:11:44.793283Z",
     "start_time": "2024-08-23T04:11:44.785460Z"
    }
   },
   "source": [
    "# 定义测试函数\n",
    "def test(model, data_loader):\n",
    "    \"\"\"\n",
    "    在这里定义一个测试模块函数\n",
    "    参数：\n",
    "        model(nn.Module):模型\n",
    "        data_loader(DataLoader):用于加载测试数据的loader\n",
    "        criterion:评估测试结果的损失函数\n",
    "    输出：\n",
    "        eval_loss(list[float]):记录每批次测试数据的评估loss的列表\n",
    "        results(list[(src, tgt, pt)]):一个列表，其中每个元素记录一个批次的src,tgt,pt，pt表示prediction\n",
    "    提示：\n",
    "       对数据批次进行循环\n",
    "    \"\"\"\n",
    "    model.eval()\n",
    "    eval_loss = []\n",
    "    results = []\n",
    "    criterion = nn.MSELoss()\n",
    "    \n",
    "    for batch_idx, (src, tgt) in enumerate(data_loader):\n",
    "        ##### your code here #####\n",
    "        \n",
    "        outputs = model(src)\n",
    "        loss = criterion(outputs, tgt)\n",
    "        print(tgt.shape)\n",
    "        # prediction = model.forward(src)\n",
    "        eval_loss.append(loss.item())\n",
    "        results.append((src, tgt, outputs))\n",
    "        # 输出当前评估结果\n",
    "        print(f'[Batch idx: {batch_idx + 1}] eval loss: {loss.item():.4f}' )\n",
    "        \n",
    "    return eval_loss, results"
   ],
   "outputs": [],
   "execution_count": 109
  },
  {
   "cell_type": "code",
   "id": "f581916d",
   "metadata": {
    "ExecuteTime": {
     "end_time": "2024-08-23T04:11:49.335483Z",
     "start_time": "2024-08-23T04:11:45.964742Z"
    }
   },
   "source": [
    "# 加载训练的模型进行评估\n",
    "model.to(device)\n",
    "saved_dict = torch.load(SAVE_NAME)\n",
    "model.load_state_dict(saved_dict)\n",
    "eval_loss, results = test(model, test_loader)"
   ],
   "outputs": [
    {
     "name": "stderr",
     "output_type": "stream",
     "text": [
      "C:\\Users\\65197\\AppData\\Local\\Temp\\ipykernel_11468\\3433947477.py:3: FutureWarning: You are using `torch.load` with `weights_only=False` (the current default value), which uses the default pickle module implicitly. It is possible to construct malicious pickle data which will execute arbitrary code during unpickling (See https://github.com/pytorch/pytorch/blob/main/SECURITY.md#untrusted-models for more details). In a future release, the default value for `weights_only` will be flipped to `True`. This limits the functions that could be executed during unpickling. Arbitrary objects will no longer be allowed to be loaded via this mode unless they are explicitly allowlisted by the user via `torch.serialization.add_safe_globals`. We recommend you start setting `weights_only=True` for any use case where you don't have full control of the loaded file. Please open an issue on GitHub for any issues related to this experimental feature.\n",
      "  saved_dict = torch.load(SAVE_NAME)\n"
     ]
    },
    {
     "name": "stdout",
     "output_type": "stream",
     "text": [
      "torch.Size([32, 1])\n",
      "[Batch idx: 1] eval loss: 0.0015\n"
     ]
    }
   ],
   "execution_count": 110
  },
  {
   "cell_type": "code",
   "id": "ad818e135a6cdb38",
   "metadata": {
    "ExecuteTime": {
     "end_time": "2024-08-23T04:11:50.189149Z",
     "start_time": "2024-08-23T04:11:50.176488Z"
    }
   },
   "source": [
    "# 绘制测试集结果的散点图\n",
    "plt.figure(figsize=(8,8))\n",
    "src, tgt, pt = results[0]\n",
    "print(pt.shape)\n",
    "tgt = data_postprocess(tgt, tgt_ref)\n",
    "pt = data_postprocess(pt,tgt_ref)\n",
    "# 转化成numpy的array方便绘图\n",
    "tgt = tgt[:, 0].cpu().numpy()\n",
    "pt = pt[:, 0].detach().cpu().numpy()"
   ],
   "outputs": [
    {
     "name": "stdout",
     "output_type": "stream",
     "text": [
      "torch.Size([32, 1])\n"
     ]
    },
    {
     "data": {
      "text/plain": [
       "<Figure size 800x800 with 0 Axes>"
      ]
     },
     "metadata": {},
     "output_type": "display_data"
    }
   ],
   "execution_count": 111
  },
  {
   "metadata": {
    "ExecuteTime": {
     "end_time": "2024-08-23T04:11:51.910165Z",
     "start_time": "2024-08-23T04:11:51.891461Z"
    }
   },
   "cell_type": "code",
   "source": "tgt.shape",
   "id": "9c63ade97109b1fb",
   "outputs": [
    {
     "data": {
      "text/plain": [
       "(32,)"
      ]
     },
     "execution_count": 112,
     "metadata": {},
     "output_type": "execute_result"
    }
   ],
   "execution_count": 112
  },
  {
   "metadata": {
    "ExecuteTime": {
     "end_time": "2024-08-23T04:11:52.566924Z",
     "start_time": "2024-08-23T04:11:52.552942Z"
    }
   },
   "cell_type": "code",
   "source": "pt.shape",
   "id": "db6767bec1667de",
   "outputs": [
    {
     "data": {
      "text/plain": [
       "(32,)"
      ]
     },
     "execution_count": 113,
     "metadata": {},
     "output_type": "execute_result"
    }
   ],
   "execution_count": 113
  },
  {
   "metadata": {
    "ExecuteTime": {
     "end_time": "2024-08-23T04:11:53.246692Z",
     "start_time": "2024-08-23T04:11:53.131052Z"
    }
   },
   "cell_type": "code",
   "source": [
    "plt.scatter(pt, tgt, color='red')\n",
    "r2_nn = r2_score(tgt, pt)\n",
    "print(\"nn Score: \", r2_nn)\n",
    "\n",
    "plt.plot(tgt, tgt, color='blue', linestyle='--')\n",
    "plt.xlabel('nn predictions values')\n",
    "plt.ylabel('tgt')\n",
    "plt.show()\n",
    "# 绘图\n",
    "##### your code here #####"
   ],
   "id": "864c4dcf",
   "outputs": [
    {
     "name": "stdout",
     "output_type": "stream",
     "text": [
      "nn Score:  0.6908905506134033\n"
     ]
    },
    {
     "data": {
      "text/plain": [
       "<Figure size 640x480 with 1 Axes>"
      ],
      "image/png": "[encoded data removed]"
     },
     "metadata": {},
     "output_type": "display_data"
    }
   ],
   "execution_count": 114
  },
  {
   "cell_type": "markdown",
   "id": "c88f6240",
   "metadata": {},
   "source": [
    "# 更多思考\n",
    "请思考并试验以下因素对模型效果的影响，尝试进一步优化模型:\n",
    "\n",
    "1、数据方面：数据选取，数据量，数据集划分，选取的特征，数据预处理方法等\n",
    "\n",
    "2、模型方面：机器学习方法和深度学习方法预测结果的差异？对于深度神经网络，考虑模型参数（hidden_size)，模型层数（num_layers)，模型结构，是否有线性层，激活函数等因素\n",
    "\n",
    "3、训练方面：每批数据量（batch_size），训练轮次（num_epochs)，初始学习率（LR)，学习率调整策略，优化器选择等；为什么在训练集上Loss已经足够低了，在测试集上仍然有可见的偏差？\n",
    "\n",
    "4、力学方面：结合预测和理论结果的差异，分析如何使模型更好地模拟力学行为。\n",
    "\n",
    "欢迎各位保持交流，谢谢！"
   ]
  }
 ],
 "metadata": {
  "kernelspec": {
   "display_name": "Python 3 (ipykernel)",
   "language": "python",
   "name": "python3"
  },
  "language_info": {
   "codemirror_mode": {
    "name": "ipython",
    "version": 3
   },
   "file_extension": ".py",
   "mimetype": "text/x-python",
   "name": "python",
   "nbconvert_exporter": "python",
   "pygments_lexer": "ipython3",
   "version": "3.8.18"
  }
 },
 "nbformat": 4,
 "nbformat_minor": 5
}
