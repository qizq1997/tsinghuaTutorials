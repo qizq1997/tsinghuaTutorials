{
 "cells": [
  {
   "cell_type": "code",
   "execution_count": 1,
   "id": "4a326cd1-b440-428e-8aad-2ef9fc2831fd",
   "metadata": {},
   "source": [
    "import torch\n",
    "import pandas as pd\n",
    "from torch.utils.data import Dataset, DataLoader, random_split\n",
    "import torch.nn as nn\n",
    "import torch.optim as optim"
   ],
   "outputs": []
  },
  {
   "cell_type": "code",
   "execution_count": 2,
   "id": "af395681-a255-493d-9982-2ac4a06d49d4",
   "metadata": {},
   "source": [
    "class CustomDataset(Dataset):\n",
    "    def __init__(self, features, labels):\n",
    "        self.features = features\n",
    "        self.labels = labels\n",
    "\n",
    "    def __len__(self):\n",
    "        return len(self.features)\n",
    "\n",
    "    def __getitem__(self, idx):\n",
    "        return self.features[idx], self.labels[idx]"
   ],
   "outputs": []
  },
  {
   "cell_type": "code",
   "execution_count": 3,
   "id": "8aa067d9-8a2c-452b-a4b4-f146ddc66894",
   "metadata": {},
   "source": [
    "# 读取数据\n",
    "data = pd.read_excel('data.xlsx')  # 默认header=0，第1行\n",
    "\n",
    "# 构建特征和标签集合\n",
    "y = data['y'].values  # 定义标签\n",
    "X = data.drop(['y'], axis=1).values  # 定义新的特征集\n",
    "\n",
    "# 转换为张量\n",
    "X_tensor = torch.tensor(X, dtype=torch.float32)\n",
    "y_tensor = torch.tensor(y, dtype=torch.float32)\n",
    "\n",
    "# 创建数据集和数据加载器\n",
    "dataset = CustomDataset(X_tensor, y_tensor)\n",
    "train_size = int(0.8 * len(dataset))\n",
    "test_size = len(dataset) - train_size\n",
    "\n",
    "# 划分训练集、测试集\n",
    "train_dataset, test_dataset = random_split(dataset, [train_size, test_size])\n",
    "train_loader = DataLoader(train_dataset, batch_size=64, shuffle=True)\n",
    "another_train_loader = DataLoader(dataset, batch_size=64, shuffle=True)\n",
    "test_loader = DataLoader(test_dataset, batch_size=1, shuffle=False)"
   ],
   "outputs": []
  },
  {
   "cell_type": "code",
   "execution_count": 4,
   "id": "f82934d6-4431-4c1b-b907-9272f713b8b1",
   "metadata": {},
   "source": [
    "# 定义神经网络模型\n",
    "class NeuralNetwork(nn.Module):\n",
    "    def __init__(self):\n",
    "        super(NeuralNetwork, self).__init__()\n",
    "        self.fc1 = nn.Linear(9, 64)\n",
    "        self.fc2 = nn.Linear(64, 36)  # 修正层大小\n",
    "        self.fc3 = nn.Linear(36, 1)\n",
    "\n",
    "    def forward(self, x):\n",
    "        x = torch.relu(self.fc1(x))\n",
    "        x = torch.relu(self.fc2(x))\n",
    "        x = self.fc3(x)\n",
    "        return x\n",
    "\n",
    "# 创建模型实例\n",
    "model = NeuralNetwork()"
   ],
   "outputs": []
  },
  {
   "cell_type": "code",
   "execution_count": 5,
   "id": "d4fffc9a-bf5e-4516-84ae-e6934e92e41e",
   "metadata": {},
   "source": [
    "# 定义损失函数和优化器\n",
    "criterion = nn.MSELoss()\n",
    "optimizer = optim.Adam(model.parameters(), lr=0.0001)"
   ],
   "outputs": []
  },
  {
   "cell_type": "code",
   "execution_count": 6,
   "id": "03d7974f-8845-4c57-b354-ecc8e7775889",
   "metadata": {},
   "source": [
    "# 训练模型\n",
    "total_loss = 0\n",
    "num_epochs = 30\n",
    "for epoch in range(num_epochs):\n",
    "    model.train()\n",
    "    for x_batch, y_batch in train_loader:\n",
    "        optimizer.zero_grad()\n",
    "        outputs = model(x_batch)\n",
    "        loss = criterion(outputs, y_batch)\n",
    "        loss.backward()\n",
    "        optimizer.step()\n",
    "        total_loss += loss\n",
    "    print(loss)"
   ],
   "outputs": []
  },
  {
   "cell_type": "code",
   "execution_count": 7,
   "id": "bcab5482-223b-4c39-a222-9c297d196aad",
   "metadata": {},
   "source": [
    "import matplotlib.pyplot as plt\n",
    "model.eval()\n",
    "val_loss = 0.0\n",
    "# 修正：x_batch 应为 x, 修正为合适的输入维度\n",
    "for x_batch, y_batch in test_loader:\n",
    "    outputs = model(x_batch)\n",
    "    plt.scatter(outputs.detach().numpy(), y_batch)\n",
    "plt.show()"
   ],
   "outputs": []
  }
 ],
 "metadata": {
  "kernelspec": {
   "display_name": "conda-pyg3",
   "language": "python",
   "name": "pyg"
  },
  "language_info": {
   "codemirror_mode": {
    "name": "ipython",
    "version": 3
   },
   "file_extension": ".py",
   "mimetype": "text/x-python",
   "name": "python",
   "nbconvert_exporter": "python",
   "pygments_lexer": "ipython3",
   "version": "3.12.4"
  }
 },
 "nbformat": 4,
 "nbformat_minor": 5
}
